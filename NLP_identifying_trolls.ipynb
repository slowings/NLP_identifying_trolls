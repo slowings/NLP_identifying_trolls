{
  "nbformat": 4,
  "nbformat_minor": 0,
  "metadata": {
    "colab": {
      "provenance": [],
      "machine_shape": "hm"
    },
    "kernelspec": {
      "name": "python3",
      "display_name": "Python 3"
    },
    "language_info": {
      "name": "python"
    }
  },
  "cells": [
    {
      "cell_type": "markdown",
      "source": [
        "# Using MNB and Embeddings  to Predict Comment Classification\n",
        "\n",
        "Author: Sarah Lowing\n",
        "\n",
        "Submitted on: 10/26/2023\n",
        "\n",
        "\n",
        "Like this project? Contact me on [LinkedIn](www.linkedin.com/in/sarah-lowing-330714242)\n",
        "\n",
        "\n",
        "## Overview and Understanding\n",
        "\n",
        "\n",
        "For this capstone project we'll be working on identifying online harassment using NLP.  Why focus on harassment?  Well, for starters, it's a problem that affects a quarter of the population in the U.S.  Additionally, according to a [2021 Pew research poll]( (https://www.pewresearch.org/internet/2021/01/13/the-state-of-online-harassment/)), 79% of respondants \"say social media companies are doing an only fair or poor job at addressing online harassment or bullying on their platforms.\"  \n",
        "\n",
        "\"Fully 33% of women under 35 say they have been sexually harassed online\", For those who identify as LBGTQA, \"51% have been targeted for more severe forms of online abuse.\"\n",
        "\n",
        "\"Among adults who have been harassed online, roughly half of women (47%) say they think they have encountered harassment online because of their gender, whereas 18% of men who have been harassed online say the same. Similarly, about half or more Black (54%) or Hispanic online harassment targets (47%) say they were harassed due to their race or ethnicity, compared with 17% of White targets.\" [Plos](https://journals.plos.org/plosone/article?id=10.1371/journal.pone.0221152)\n",
        "\n",
        "\n",
        "Use of social media trancends mere entertainment, and often social media sites function as conduits of information and public sentiment.  Fully 60% of the worlds adult population uses social media, and 60 percent of those use social media as their only news sorce.  As such, there can be catastophic consequence when toxic speech is amplified on those platforms.  Monitoring hate speech, and the toxic impact it can have on the fragile fabric of our social contracts is a vital and neccessary checkpoint in our information age.  But with the vast amount of usage and information it would be impossible for human monitors to catch every instance of toxic speech.\n",
        "\n",
        "Our client, a small social media site that specializes in neighborhood forums is looking to combat an uptick in trolling on their site.  Our goal is to construct a virtual moderator, or vMOD, a NLP model that is capable of accurately predicting if a comment is harassment or not.  We have a two-fold additional benefit of both reducing the impact of toxic commentary on human moderators, who often suffer from an increased emotional toll of manually reviewing toxic material.  Mechanizing this task to such a degree that those workers could serve instead to review a small number user requests to remove flags would greatly reduce the psychological impact of language designed to inflame and marginalize.  And secondly, from a fiscal perspective, we could minimize the number of employees needed as moderators."
      ],
      "metadata": {
        "id": "pL4logT6ia78"
      }
    },
    {
      "cell_type": "markdown",
      "source": [
        "# Data Understanding\n",
        "\n",
        "\n",
        "Our data comes from a Kaggle competetion, [Identifying Toxic Comments: Jigsaw Toxic Comment Classification Challange](https://www.kaggle.com/competitions/jigsaw-toxic-comment-classification-challenge/data),  a dataset comprising of 159571 data points (or comments) from Wikipedia and six target variables, toxic, severe_toxic, obscene, threat, insult, and identity_hate.  The compition was originally hosted by ConversationAI, a research arm of Alphabet.  Because the file is too large to upload to Git, I downloaded the 3 files to my cloud drive (this may take a couple of minutes depending on your download speed).  I then accessed these using OS commands to find  the directory and access said files.\n",
        "\n",
        "  *Please see markdown below for specific directions on locating and accessing data in collab.*\n",
        "\n",
        "\n",
        "Per [A Literature Survey on Algorithms for Multi-label\n",
        "Learning](https://citeseerx.ist.psu.edu/viewdoc/download?doi=10.1.1.364.5612&rep=rep1&type=pdf) \"in multi-label classification, predictions for an instance is a set of labels and, therefore, the prediction\n",
        "can be fully correct, partially correct (with different levels of correctness) or fully incorrect. None of\n",
        "these existing evaluation metrics capture such notion in their original form. This makes evaluation\n",
        "of a multi-label classifier more challenging than evaluation of a single label classifier.\"\n",
        "\n",
        "With this in mind we start with with all six targets present, and then try using a binary encoded version of our model for performance comparisons.\n"
      ],
      "metadata": {
        "id": "vO5a94oCGxc9"
      }
    },
    {
      "cell_type": "markdown",
      "source": [
        "## Import Data\n",
        "In this section we'll take a preliminary look at our data to get a feel for what we're working with. Let's begin with our import statements and then by taking a look at the contents of our train data directory."
      ],
      "metadata": {
        "id": "xUG-6cvN305k"
      }
    },
    {
      "cell_type": "code",
      "source": [
        "import re, os, csv\n",
        "import numpy as np, pandas as pd, matplotlib.pyplot as plt, seaborn as sns\n",
        "from google.colab import drive\n",
        "\n",
        "\n",
        "import tensorflow as tf\n",
        "import tensorflow_hub as hub\n",
        "\n",
        "from tensorflow import keras\n",
        "from keras import initializers, regularizers, constraints, optimizers, layers\n",
        "from keras.models import Model, Sequential\n",
        "from keras.preprocessing.text import Tokenizer\n",
        "from keras.preprocessing.sequence import pad_sequences\n",
        "from keras.layers import Dense, Flatten, Input, LSTM, Embedding, Dropout, GlobalMaxPool1D, SpatialDropout1D, BatchNormalization\n",
        "from keras.preprocessing import sequence\n",
        "from keras.metrics import Precision, Recall, F1Score\n",
        "\n",
        "\n",
        "\n",
        "import shutil\n",
        "from gensim.models import Word2Vec\n",
        "\n",
        "import nltk\n",
        "from nltk import pos_tag\n",
        "from nltk.tokenize import word_tokenize\n",
        "from nltk.corpus import stopwords, wordnet\n",
        "from nltk.stem import WordNetLemmatizer\n",
        "\n",
        "nltk.download('stopwords')\n",
        "nltk.download('averaged_perceptron_tagger')\n",
        "nltk.download('wordnet')\n",
        "\n",
        "from sklearn.pipeline import Pipeline\n",
        "from sklearn.feature_extraction.text import TfidfTransformer, CountVectorizer\n",
        "from sklearn.naive_bayes import MultinomialNB, GaussianNB\n",
        "from sklearn.multioutput import MultiOutputClassifier\n",
        "from sklearn.metrics import accuracy_score, precision_score, confusion_matrix, classification_report\n",
        "from sklearn.linear_model import LogisticRegression\n",
        "from sklearn.model_selection import train_test_split\n",
        "\n",
        "from imblearn.over_sampling import RandomOverSampler\n",
        "from imblearn.pipeline import Pipeline as Pipe\n",
        "\n"
      ],
      "metadata": {
        "id": "om6J0GPXvb7Y",
        "colab": {
          "base_uri": "https://localhost:8080/",
          "height": 0
        },
        "outputId": "1d9b4250-d8ba-4eca-dbd6-1bf393152eef"
      },
      "execution_count": 1,
      "outputs": [
        {
          "output_type": "stream",
          "name": "stderr",
          "text": [
            "[nltk_data] Downloading package stopwords to /root/nltk_data...\n",
            "[nltk_data]   Unzipping corpora/stopwords.zip.\n",
            "[nltk_data] Downloading package averaged_perceptron_tagger to\n",
            "[nltk_data]     /root/nltk_data...\n",
            "[nltk_data]   Unzipping taggers/averaged_perceptron_tagger.zip.\n",
            "[nltk_data] Downloading package wordnet to /root/nltk_data...\n"
          ]
        }
      ]
    },
    {
      "cell_type": "code",
      "source": [
        " # Get current directory\n",
        "print(os.getcwd())\n",
        "\n",
        "# Get contents of the directory\n",
        "print(os.listdir())"
      ],
      "metadata": {
        "id": "Ghs8xm_zuMWd",
        "colab": {
          "base_uri": "https://localhost:8080/"
        },
        "outputId": "493a58ae-2698-4879-cd1a-d70273858680"
      },
      "execution_count": null,
      "outputs": [
        {
          "output_type": "stream",
          "name": "stdout",
          "text": [
            "/content\n",
            "['.config', 'drive', 'sample_data']\n"
          ]
        }
      ]
    },
    {
      "cell_type": "code",
      "source": [
        "# Set path to data.  Hint- right click on the file you want to copy file path!\n",
        "drive_path = '/content/drive/MyDrive/Colab_Notebooks/jigsaw-toxic-comment-classification-challenge.zip'"
      ],
      "metadata": {
        "id": "-EtsdOdMLFpx"
      },
      "execution_count": 2,
      "outputs": []
    },
    {
      "cell_type": "code",
      "source": [
        "# Navigate to file\n",
        "!cp '{drive_path}' ."
      ],
      "metadata": {
        "id": "AgRyA_Xm1_Bi"
      },
      "execution_count": 3,
      "outputs": []
    },
    {
      "cell_type": "code",
      "source": [
        "# Get current directory/confirm correct path\n",
        "print(os.getcwd())\n",
        "\n",
        "# Get contents of the directory\n",
        "print(os.listdir())"
      ],
      "metadata": {
        "colab": {
          "base_uri": "https://localhost:8080/"
        },
        "id": "DasrgsS8QaIF",
        "outputId": "03fabf0e-69b7-41d0-d962-8ad6468ae327"
      },
      "execution_count": null,
      "outputs": [
        {
          "output_type": "stream",
          "name": "stdout",
          "text": [
            "/content\n",
            "['.config', 'drive', 'jigsaw-toxic-comment-classification-challenge.zip', 'sample_data']\n"
          ]
        }
      ]
    },
    {
      "cell_type": "code",
      "source": [
        "# Unzip zip file\n",
        "!unzip '/content/jigsaw-toxic-comment-classification-challenge.zip'"
      ],
      "metadata": {
        "id": "9Y1BMt93Bewu",
        "colab": {
          "base_uri": "https://localhost:8080/",
          "height": 0
        },
        "outputId": "99d255a2-86fa-44cc-e7c8-a0196b12c557"
      },
      "execution_count": 4,
      "outputs": [
        {
          "output_type": "stream",
          "name": "stdout",
          "text": [
            "Archive:  /content/jigsaw-toxic-comment-classification-challenge.zip\n",
            "  inflating: sample_submission.csv.zip  \n",
            "  inflating: test.csv.zip            \n",
            "  inflating: test_labels.csv.zip     \n",
            "  inflating: train.csv.zip           \n"
          ]
        }
      ]
    },
    {
      "cell_type": "code",
      "source": [
        "# import csv data as pd df\n",
        "train = pd.read_csv('train.csv.zip')\n",
        "test = pd.read_csv('test.csv.zip')\n",
        "test_labels= pd.read_csv('test_labels.csv.zip')\n"
      ],
      "metadata": {
        "id": "-BQLYlEw4AvB"
      },
      "execution_count": 5,
      "outputs": []
    },
    {
      "cell_type": "markdown",
      "source": [
        "## Inspect Data"
      ],
      "metadata": {
        "id": "yCNpAUDROmdM"
      }
    },
    {
      "cell_type": "code",
      "source": [
        "train.shape"
      ],
      "metadata": {
        "colab": {
          "base_uri": "https://localhost:8080/"
        },
        "id": "K44mzP4Pa9M2",
        "outputId": "edcf3262-d9db-46e6-c5bd-32a71edb95ae"
      },
      "execution_count": null,
      "outputs": [
        {
          "output_type": "execute_result",
          "data": {
            "text/plain": [
              "(159571, 8)"
            ]
          },
          "metadata": {},
          "execution_count": 7
        }
      ]
    },
    {
      "cell_type": "code",
      "source": [
        "print(\"Number of Train NaN:\", train['comment_text'].isnull().sum())\n",
        "print(\"Number of Test NaN:\", test['comment_text'].isnull().sum())\n",
        "print(\"Number of Label NaN:\", test_labels.isnull().sum())\n"
      ],
      "metadata": {
        "colab": {
          "base_uri": "https://localhost:8080/"
        },
        "id": "3LZKjjMSADR1",
        "outputId": "fd9915e2-6db8-4edd-ec71-563ce6e7669f"
      },
      "execution_count": null,
      "outputs": [
        {
          "output_type": "stream",
          "name": "stdout",
          "text": [
            "Number of Train NaN: 0\n",
            "Number of Test NaN: 0\n",
            "Number of Label NaN: id               0\n",
            "toxic            0\n",
            "severe_toxic     0\n",
            "obscene          0\n",
            "threat           0\n",
            "insult           0\n",
            "identity_hate    0\n",
            "dtype: int64\n"
          ]
        }
      ]
    },
    {
      "cell_type": "code",
      "source": [
        "train.head(10)"
      ],
      "metadata": {
        "colab": {
          "base_uri": "https://localhost:8080/",
          "height": 710
        },
        "id": "TsOKG-TOvN7P",
        "outputId": "fcb65cd8-e179-4e4f-bcc0-7b270ec5ecf7"
      },
      "execution_count": null,
      "outputs": [
        {
          "output_type": "execute_result",
          "data": {
            "text/plain": [
              "                 id                                       comment_text  toxic  \\\n",
              "0  0000997932d777bf  Explanation\\nWhy the edits made under my usern...      0   \n",
              "1  000103f0d9cfb60f  D'aww! He matches this background colour I'm s...      0   \n",
              "2  000113f07ec002fd  Hey man, I'm really not trying to edit war. It...      0   \n",
              "3  0001b41b1c6bb37e  \"\\nMore\\nI can't make any real suggestions on ...      0   \n",
              "4  0001d958c54c6e35  You, sir, are my hero. Any chance you remember...      0   \n",
              "5  00025465d4725e87  \"\\n\\nCongratulations from me as well, use the ...      0   \n",
              "6  0002bcb3da6cb337       COCKSUCKER BEFORE YOU PISS AROUND ON MY WORK      1   \n",
              "7  00031b1e95af7921  Your vandalism to the Matt Shirvington article...      0   \n",
              "8  00037261f536c51d  Sorry if the word 'nonsense' was offensive to ...      0   \n",
              "9  00040093b2687caa  alignment on this subject and which are contra...      0   \n",
              "\n",
              "   severe_toxic  obscene  threat  insult  identity_hate  \n",
              "0             0        0       0       0              0  \n",
              "1             0        0       0       0              0  \n",
              "2             0        0       0       0              0  \n",
              "3             0        0       0       0              0  \n",
              "4             0        0       0       0              0  \n",
              "5             0        0       0       0              0  \n",
              "6             1        1       0       1              0  \n",
              "7             0        0       0       0              0  \n",
              "8             0        0       0       0              0  \n",
              "9             0        0       0       0              0  "
            ],
            "text/html": [
              "\n",
              "  <div id=\"df-d9ddb813-00c1-4552-a2c3-e279297c0a49\" class=\"colab-df-container\">\n",
              "    <div>\n",
              "<style scoped>\n",
              "    .dataframe tbody tr th:only-of-type {\n",
              "        vertical-align: middle;\n",
              "    }\n",
              "\n",
              "    .dataframe tbody tr th {\n",
              "        vertical-align: top;\n",
              "    }\n",
              "\n",
              "    .dataframe thead th {\n",
              "        text-align: right;\n",
              "    }\n",
              "</style>\n",
              "<table border=\"1\" class=\"dataframe\">\n",
              "  <thead>\n",
              "    <tr style=\"text-align: right;\">\n",
              "      <th></th>\n",
              "      <th>id</th>\n",
              "      <th>comment_text</th>\n",
              "      <th>toxic</th>\n",
              "      <th>severe_toxic</th>\n",
              "      <th>obscene</th>\n",
              "      <th>threat</th>\n",
              "      <th>insult</th>\n",
              "      <th>identity_hate</th>\n",
              "    </tr>\n",
              "  </thead>\n",
              "  <tbody>\n",
              "    <tr>\n",
              "      <th>0</th>\n",
              "      <td>0000997932d777bf</td>\n",
              "      <td>Explanation\\nWhy the edits made under my usern...</td>\n",
              "      <td>0</td>\n",
              "      <td>0</td>\n",
              "      <td>0</td>\n",
              "      <td>0</td>\n",
              "      <td>0</td>\n",
              "      <td>0</td>\n",
              "    </tr>\n",
              "    <tr>\n",
              "      <th>1</th>\n",
              "      <td>000103f0d9cfb60f</td>\n",
              "      <td>D'aww! He matches this background colour I'm s...</td>\n",
              "      <td>0</td>\n",
              "      <td>0</td>\n",
              "      <td>0</td>\n",
              "      <td>0</td>\n",
              "      <td>0</td>\n",
              "      <td>0</td>\n",
              "    </tr>\n",
              "    <tr>\n",
              "      <th>2</th>\n",
              "      <td>000113f07ec002fd</td>\n",
              "      <td>Hey man, I'm really not trying to edit war. It...</td>\n",
              "      <td>0</td>\n",
              "      <td>0</td>\n",
              "      <td>0</td>\n",
              "      <td>0</td>\n",
              "      <td>0</td>\n",
              "      <td>0</td>\n",
              "    </tr>\n",
              "    <tr>\n",
              "      <th>3</th>\n",
              "      <td>0001b41b1c6bb37e</td>\n",
              "      <td>\"\\nMore\\nI can't make any real suggestions on ...</td>\n",
              "      <td>0</td>\n",
              "      <td>0</td>\n",
              "      <td>0</td>\n",
              "      <td>0</td>\n",
              "      <td>0</td>\n",
              "      <td>0</td>\n",
              "    </tr>\n",
              "    <tr>\n",
              "      <th>4</th>\n",
              "      <td>0001d958c54c6e35</td>\n",
              "      <td>You, sir, are my hero. Any chance you remember...</td>\n",
              "      <td>0</td>\n",
              "      <td>0</td>\n",
              "      <td>0</td>\n",
              "      <td>0</td>\n",
              "      <td>0</td>\n",
              "      <td>0</td>\n",
              "    </tr>\n",
              "    <tr>\n",
              "      <th>5</th>\n",
              "      <td>00025465d4725e87</td>\n",
              "      <td>\"\\n\\nCongratulations from me as well, use the ...</td>\n",
              "      <td>0</td>\n",
              "      <td>0</td>\n",
              "      <td>0</td>\n",
              "      <td>0</td>\n",
              "      <td>0</td>\n",
              "      <td>0</td>\n",
              "    </tr>\n",
              "    <tr>\n",
              "      <th>6</th>\n",
              "      <td>0002bcb3da6cb337</td>\n",
              "      <td>COCKSUCKER BEFORE YOU PISS AROUND ON MY WORK</td>\n",
              "      <td>1</td>\n",
              "      <td>1</td>\n",
              "      <td>1</td>\n",
              "      <td>0</td>\n",
              "      <td>1</td>\n",
              "      <td>0</td>\n",
              "    </tr>\n",
              "    <tr>\n",
              "      <th>7</th>\n",
              "      <td>00031b1e95af7921</td>\n",
              "      <td>Your vandalism to the Matt Shirvington article...</td>\n",
              "      <td>0</td>\n",
              "      <td>0</td>\n",
              "      <td>0</td>\n",
              "      <td>0</td>\n",
              "      <td>0</td>\n",
              "      <td>0</td>\n",
              "    </tr>\n",
              "    <tr>\n",
              "      <th>8</th>\n",
              "      <td>00037261f536c51d</td>\n",
              "      <td>Sorry if the word 'nonsense' was offensive to ...</td>\n",
              "      <td>0</td>\n",
              "      <td>0</td>\n",
              "      <td>0</td>\n",
              "      <td>0</td>\n",
              "      <td>0</td>\n",
              "      <td>0</td>\n",
              "    </tr>\n",
              "    <tr>\n",
              "      <th>9</th>\n",
              "      <td>00040093b2687caa</td>\n",
              "      <td>alignment on this subject and which are contra...</td>\n",
              "      <td>0</td>\n",
              "      <td>0</td>\n",
              "      <td>0</td>\n",
              "      <td>0</td>\n",
              "      <td>0</td>\n",
              "      <td>0</td>\n",
              "    </tr>\n",
              "  </tbody>\n",
              "</table>\n",
              "</div>\n",
              "    <div class=\"colab-df-buttons\">\n",
              "\n",
              "  <div class=\"colab-df-container\">\n",
              "    <button class=\"colab-df-convert\" onclick=\"convertToInteractive('df-d9ddb813-00c1-4552-a2c3-e279297c0a49')\"\n",
              "            title=\"Convert this dataframe to an interactive table.\"\n",
              "            style=\"display:none;\">\n",
              "\n",
              "  <svg xmlns=\"http://www.w3.org/2000/svg\" height=\"24px\" viewBox=\"0 -960 960 960\">\n",
              "    <path d=\"M120-120v-720h720v720H120Zm60-500h600v-160H180v160Zm220 220h160v-160H400v160Zm0 220h160v-160H400v160ZM180-400h160v-160H180v160Zm440 0h160v-160H620v160ZM180-180h160v-160H180v160Zm440 0h160v-160H620v160Z\"/>\n",
              "  </svg>\n",
              "    </button>\n",
              "\n",
              "  <style>\n",
              "    .colab-df-container {\n",
              "      display:flex;\n",
              "      gap: 12px;\n",
              "    }\n",
              "\n",
              "    .colab-df-convert {\n",
              "      background-color: #E8F0FE;\n",
              "      border: none;\n",
              "      border-radius: 50%;\n",
              "      cursor: pointer;\n",
              "      display: none;\n",
              "      fill: #1967D2;\n",
              "      height: 32px;\n",
              "      padding: 0 0 0 0;\n",
              "      width: 32px;\n",
              "    }\n",
              "\n",
              "    .colab-df-convert:hover {\n",
              "      background-color: #E2EBFA;\n",
              "      box-shadow: 0px 1px 2px rgba(60, 64, 67, 0.3), 0px 1px 3px 1px rgba(60, 64, 67, 0.15);\n",
              "      fill: #174EA6;\n",
              "    }\n",
              "\n",
              "    .colab-df-buttons div {\n",
              "      margin-bottom: 4px;\n",
              "    }\n",
              "\n",
              "    [theme=dark] .colab-df-convert {\n",
              "      background-color: #3B4455;\n",
              "      fill: #D2E3FC;\n",
              "    }\n",
              "\n",
              "    [theme=dark] .colab-df-convert:hover {\n",
              "      background-color: #434B5C;\n",
              "      box-shadow: 0px 1px 3px 1px rgba(0, 0, 0, 0.15);\n",
              "      filter: drop-shadow(0px 1px 2px rgba(0, 0, 0, 0.3));\n",
              "      fill: #FFFFFF;\n",
              "    }\n",
              "  </style>\n",
              "\n",
              "    <script>\n",
              "      const buttonEl =\n",
              "        document.querySelector('#df-d9ddb813-00c1-4552-a2c3-e279297c0a49 button.colab-df-convert');\n",
              "      buttonEl.style.display =\n",
              "        google.colab.kernel.accessAllowed ? 'block' : 'none';\n",
              "\n",
              "      async function convertToInteractive(key) {\n",
              "        const element = document.querySelector('#df-d9ddb813-00c1-4552-a2c3-e279297c0a49');\n",
              "        const dataTable =\n",
              "          await google.colab.kernel.invokeFunction('convertToInteractive',\n",
              "                                                    [key], {});\n",
              "        if (!dataTable) return;\n",
              "\n",
              "        const docLinkHtml = 'Like what you see? Visit the ' +\n",
              "          '<a target=\"_blank\" href=https://colab.research.google.com/notebooks/data_table.ipynb>data table notebook</a>'\n",
              "          + ' to learn more about interactive tables.';\n",
              "        element.innerHTML = '';\n",
              "        dataTable['output_type'] = 'display_data';\n",
              "        await google.colab.output.renderOutput(dataTable, element);\n",
              "        const docLink = document.createElement('div');\n",
              "        docLink.innerHTML = docLinkHtml;\n",
              "        element.appendChild(docLink);\n",
              "      }\n",
              "    </script>\n",
              "  </div>\n",
              "\n",
              "\n",
              "<div id=\"df-fe509e29-1d81-4682-bdda-9a6541dc2e1c\">\n",
              "  <button class=\"colab-df-quickchart\" onclick=\"quickchart('df-fe509e29-1d81-4682-bdda-9a6541dc2e1c')\"\n",
              "            title=\"Suggest charts.\"\n",
              "            style=\"display:none;\">\n",
              "\n",
              "<svg xmlns=\"http://www.w3.org/2000/svg\" height=\"24px\"viewBox=\"0 0 24 24\"\n",
              "     width=\"24px\">\n",
              "    <g>\n",
              "        <path d=\"M19 3H5c-1.1 0-2 .9-2 2v14c0 1.1.9 2 2 2h14c1.1 0 2-.9 2-2V5c0-1.1-.9-2-2-2zM9 17H7v-7h2v7zm4 0h-2V7h2v10zm4 0h-2v-4h2v4z\"/>\n",
              "    </g>\n",
              "</svg>\n",
              "  </button>\n",
              "\n",
              "<style>\n",
              "  .colab-df-quickchart {\n",
              "      --bg-color: #E8F0FE;\n",
              "      --fill-color: #1967D2;\n",
              "      --hover-bg-color: #E2EBFA;\n",
              "      --hover-fill-color: #174EA6;\n",
              "      --disabled-fill-color: #AAA;\n",
              "      --disabled-bg-color: #DDD;\n",
              "  }\n",
              "\n",
              "  [theme=dark] .colab-df-quickchart {\n",
              "      --bg-color: #3B4455;\n",
              "      --fill-color: #D2E3FC;\n",
              "      --hover-bg-color: #434B5C;\n",
              "      --hover-fill-color: #FFFFFF;\n",
              "      --disabled-bg-color: #3B4455;\n",
              "      --disabled-fill-color: #666;\n",
              "  }\n",
              "\n",
              "  .colab-df-quickchart {\n",
              "    background-color: var(--bg-color);\n",
              "    border: none;\n",
              "    border-radius: 50%;\n",
              "    cursor: pointer;\n",
              "    display: none;\n",
              "    fill: var(--fill-color);\n",
              "    height: 32px;\n",
              "    padding: 0;\n",
              "    width: 32px;\n",
              "  }\n",
              "\n",
              "  .colab-df-quickchart:hover {\n",
              "    background-color: var(--hover-bg-color);\n",
              "    box-shadow: 0 1px 2px rgba(60, 64, 67, 0.3), 0 1px 3px 1px rgba(60, 64, 67, 0.15);\n",
              "    fill: var(--button-hover-fill-color);\n",
              "  }\n",
              "\n",
              "  .colab-df-quickchart-complete:disabled,\n",
              "  .colab-df-quickchart-complete:disabled:hover {\n",
              "    background-color: var(--disabled-bg-color);\n",
              "    fill: var(--disabled-fill-color);\n",
              "    box-shadow: none;\n",
              "  }\n",
              "\n",
              "  .colab-df-spinner {\n",
              "    border: 2px solid var(--fill-color);\n",
              "    border-color: transparent;\n",
              "    border-bottom-color: var(--fill-color);\n",
              "    animation:\n",
              "      spin 1s steps(1) infinite;\n",
              "  }\n",
              "\n",
              "  @keyframes spin {\n",
              "    0% {\n",
              "      border-color: transparent;\n",
              "      border-bottom-color: var(--fill-color);\n",
              "      border-left-color: var(--fill-color);\n",
              "    }\n",
              "    20% {\n",
              "      border-color: transparent;\n",
              "      border-left-color: var(--fill-color);\n",
              "      border-top-color: var(--fill-color);\n",
              "    }\n",
              "    30% {\n",
              "      border-color: transparent;\n",
              "      border-left-color: var(--fill-color);\n",
              "      border-top-color: var(--fill-color);\n",
              "      border-right-color: var(--fill-color);\n",
              "    }\n",
              "    40% {\n",
              "      border-color: transparent;\n",
              "      border-right-color: var(--fill-color);\n",
              "      border-top-color: var(--fill-color);\n",
              "    }\n",
              "    60% {\n",
              "      border-color: transparent;\n",
              "      border-right-color: var(--fill-color);\n",
              "    }\n",
              "    80% {\n",
              "      border-color: transparent;\n",
              "      border-right-color: var(--fill-color);\n",
              "      border-bottom-color: var(--fill-color);\n",
              "    }\n",
              "    90% {\n",
              "      border-color: transparent;\n",
              "      border-bottom-color: var(--fill-color);\n",
              "    }\n",
              "  }\n",
              "</style>\n",
              "\n",
              "  <script>\n",
              "    async function quickchart(key) {\n",
              "      const quickchartButtonEl =\n",
              "        document.querySelector('#' + key + ' button');\n",
              "      quickchartButtonEl.disabled = true;  // To prevent multiple clicks.\n",
              "      quickchartButtonEl.classList.add('colab-df-spinner');\n",
              "      try {\n",
              "        const charts = await google.colab.kernel.invokeFunction(\n",
              "            'suggestCharts', [key], {});\n",
              "      } catch (error) {\n",
              "        console.error('Error during call to suggestCharts:', error);\n",
              "      }\n",
              "      quickchartButtonEl.classList.remove('colab-df-spinner');\n",
              "      quickchartButtonEl.classList.add('colab-df-quickchart-complete');\n",
              "    }\n",
              "    (() => {\n",
              "      let quickchartButtonEl =\n",
              "        document.querySelector('#df-fe509e29-1d81-4682-bdda-9a6541dc2e1c button');\n",
              "      quickchartButtonEl.style.display =\n",
              "        google.colab.kernel.accessAllowed ? 'block' : 'none';\n",
              "    })();\n",
              "  </script>\n",
              "</div>\n",
              "\n",
              "    </div>\n",
              "  </div>\n"
            ]
          },
          "metadata": {},
          "execution_count": 7
        }
      ]
    },
    {
      "cell_type": "code",
      "source": [
        "# Find comment lengths\n",
        "comment_lengths = [len(comment.split()) for comment in train[\"comment_text\"]]\n"
      ],
      "metadata": {
        "id": "DsOGtaPA1gqY"
      },
      "execution_count": null,
      "outputs": []
    },
    {
      "cell_type": "code",
      "source": [
        "# Plot comment lengths\n",
        "plt.figure(figsize=(10,5))\n",
        "sns.histplot(comment_lengths, bins=100);\n",
        "plt.xlabel(\"Comment Length(Number of words)\", fontsize=14);\n",
        "plt.ylabel(\"Number of Comments\", fontsize=14);\n",
        "plt.title(\"Distribution of comment Lengths\", fontsize=14);"
      ],
      "metadata": {
        "colab": {
          "base_uri": "https://localhost:8080/",
          "height": 460
        },
        "id": "rdXmkg4v2POV",
        "outputId": "09d2cf63-73dc-41e1-9bbc-d4191ba60354"
      },
      "execution_count": null,
      "outputs": [
        {
          "output_type": "display_data",
          "data": {
            "text/plain": [
              "<Figure size 1000x500 with 1 Axes>"
            ],
            "image/png": "[encoded data removed]"
          },
          "metadata": {}
        }
      ]
    },
    {
      "cell_type": "code",
      "source": [
        "# Find lengths of longest, shortest, and average comments\n",
        "len = train.comment_text.len()\n",
        "print(\"Shortest comment:\", len.min(), \"words\")\n",
        "print(\"Longest comment:\", len.max(), \"words\")\n",
        "print(\"Average comment:\", len.mean().round(0), \"words\")\n",
        "\n",
        "\n"
      ],
      "metadata": {
        "colab": {
          "base_uri": "https://localhost:8080/"
        },
        "id": "E4MQ1o28g_Mh",
        "outputId": "2133bfcc-5a59-4859-a25e-1dc653ebe7c6"
      },
      "execution_count": null,
      "outputs": [
        {
          "output_type": "stream",
          "name": "stdout",
          "text": [
            "Shortest comment: 6 words\n",
            "Longest comment: 5000 words\n",
            "Average comment: 394.0 words\n"
          ]
        }
      ]
    },
    {
      "cell_type": "markdown",
      "source": [
        "## Non Toxic Word Visualizations\n",
        " Below, we'll create visualizations of some of these words from our nontoxic corpus."
      ],
      "metadata": {
        "id": "1Kf4Gurt-rAZ"
      }
    },
    {
      "cell_type": "code",
      "source": [
        "# Impost statements\n",
        "import wordcloud\n",
        "from wordcloud import WordCloud\n"
      ],
      "metadata": {
        "id": "Baf13VLG2kRD"
      },
      "execution_count": null,
      "outputs": []
    },
    {
      "cell_type": "code",
      "source": [
        "# Function to clean corpus- we'll use this later as well\n",
        "\n",
        "Stopwords = set(stopwords.words('english')) - {'not', 'no' }\n",
        "def clean_text(text):\n",
        "    text = text.lower()\n",
        "    text = re.sub(r\"what's\", \"what is \", text)\n",
        "    text = re.sub(r\"\\'s\", \" \", text)\n",
        "    text = re.sub(r\"\\'ve\", \" have \", text)\n",
        "    text = re.sub(r\"can't\", \"can not \", text)\n",
        "    text = re.sub(r\"n't\", \" not \", text)\n",
        "    text = re.sub(r\"i'm\", \"i am \", text)\n",
        "    text = re.sub(r\"\\'re\", \" are \", text)\n",
        "    text = re.sub(r\"\\'d\", \" would \", text)\n",
        "    text = re.sub(r\"\\'ll\", \" will \", text)\n",
        "    text = re.sub(r\"\\'scuse\", \" excuse \", text)\n",
        "    text = re.sub('\\W', ' ', text) # remove all non words\n",
        "    text = re.sub('\\s+', ' ', text) #remove whitespace\n",
        "    text = re.sub(r\"https?://\\S+|www\\.\\S+\", \"\", text) # remove websites\n",
        "    text = re.sub(r'[^\\x00-\\x7f]',r'', text) # remove non ACSII char\n",
        "    text = re.sub(r\"\\n\", \"\", text) # remove newline\n",
        "    text = text.strip(' ')\n",
        "    text = ' '.join(word for word in text.split() if word not in Stopwords) # delete stopwords from text\n",
        "\n",
        "\n",
        "    return text"
      ],
      "metadata": {
        "id": "MoERBxP9QbNp"
      },
      "execution_count": 6,
      "outputs": []
    },
    {
      "cell_type": "code",
      "source": [
        "# Fiter for clean speech only\n",
        "clean_comments = train['comment_text'].loc[train['comment_text'] !=1].values"
      ],
      "metadata": {
        "id": "5u6hPZ8U8bUP"
      },
      "execution_count": null,
      "outputs": []
    },
    {
      "cell_type": "code",
      "source": [
        "# Use function to clean texts\n",
        "clean_comments=  [clean_text(com) for com in clean_comments]\n"
      ],
      "metadata": {
        "id": "yA6lHz-bK_We"
      },
      "execution_count": null,
      "outputs": []
    },
    {
      "cell_type": "code",
      "source": [
        "# Dictionary of all words from train corpus with their counts (BoW)\n",
        "words_counts = {}\n",
        "for comments in clean_comments:\n",
        "    for word in comments.split():\n",
        "        if word not in words_counts:\n",
        "            words_counts[word] = 1\n",
        "        words_counts[word] += 1\n",
        "\n",
        "size = 10000\n",
        "w_sorted = sorted(words_counts, key=words_counts.get, reverse=True)[:size]\n",
        "w_index = {key: rank for rank, key in enumerate(w_sorted, 0)}\n",
        "i_to_w = {index:word for word, index in w_index.items()}\n",
        "words = i_to_w.keys()\n",
        "\n"
      ],
      "metadata": {
        "id": "QA4fjRoUO-D_"
      },
      "execution_count": null,
      "outputs": []
    },
    {
      "cell_type": "code",
      "source": [
        "# 10 least used words\n",
        "w_sorted[-10:]"
      ],
      "metadata": {
        "colab": {
          "base_uri": "https://localhost:8080/"
        },
        "id": "FaNogwa_RYIF",
        "outputId": "f1d7b1a9-02f9-48ff-f18b-6f687ed79a5a"
      },
      "execution_count": null,
      "outputs": [
        {
          "output_type": "execute_result",
          "data": {
            "text/plain": [
              "['references?',\n",
              " 'Fine',\n",
              " 'industry,',\n",
              " 'drinks',\n",
              " 'simultaneously',\n",
              " 'prompt',\n",
              " 'structures',\n",
              " 'Jerry',\n",
              " 'evaluate',\n",
              " 'unethical']"
            ]
          },
          "metadata": {},
          "execution_count": 43
        }
      ]
    },
    {
      "cell_type": "code",
      "source": [
        "# Word cloud using BoW non-toxic speech\n",
        "word_cloud = WordCloud(\n",
        "                       width = 200, height=175,\n",
        "                       background_color='white',\n",
        "                       min_font_size=7).generate(\" \".join(w_sorted))\n",
        "\n",
        "plt.figure(figsize = (15, 8), facecolor = None)\n",
        "plt.imshow(word_cloud)\n",
        "plt.axis(\"off\")\n",
        "plt.tight_layout(pad = 0)\n",
        "\n",
        "plt.show()"
      ],
      "metadata": {
        "colab": {
          "base_uri": "https://localhost:8080/",
          "height": 428
        },
        "id": "2SRKeu2D8VIW",
        "outputId": "8f3ed026-cb51-4c1a-e01c-71ef4a9bb1b2"
      },
      "execution_count": null,
      "outputs": [
        {
          "output_type": "display_data",
          "data": {
            "text/plain": [
              "<Figure size 1500x800 with 1 Axes>"
            ],
            "image/png": "[encoded data removed]"
          },
          "metadata": {}
        }
      ]
    },
    {
      "cell_type": "markdown",
      "source": [
        "## Examine Toxic Values\n",
        "Let's take a closer look at the distribution of our toxic comments per category.  We'll skip creating a visualization for our toxic vocab, because we're pretty confident that's unneccessarily offensive- we have a good idea of what constitutes toxic speech."
      ],
      "metadata": {
        "id": "1RuaEJA0Ak7w"
      }
    },
    {
      "cell_type": "code",
      "source": [
        "cols = [\"toxic\", \"severe_toxic\", \"obscene\", \"threat\", \"insult\", \"identity_hate\"]\n",
        "\n",
        "val_counts = y_train[cols].sum()\n",
        "\n",
        "plt.figure(figsize=(8,5))\n",
        "ax = sns.barplot(x= val_counts.index, y= val_counts.values, alpha=0.8)\n",
        "\n",
        "plt.title(\"Comments per Class\")\n",
        "plt.xlabel(\"Comment Type\")\n",
        "plt.ylabel(\"Counts of Comments\")\n",
        "\n",
        "rects = ax.patches\n",
        "labels = val_counts.values\n",
        "for rect, label in zip(rects, labels):\n",
        "    height = rect.get_height()\n",
        "    ax.text(rect.get_x() + rect.get_width()/2, height+5, label, ha=\"center\", va=\"bottom\")\n",
        "\n",
        "\n",
        "plt.show()"
      ],
      "metadata": {
        "colab": {
          "base_uri": "https://localhost:8080/",
          "height": 487
        },
        "id": "n_XdU1p3GcDc",
        "outputId": "812b9246-e2ee-44a2-df66-802a1d9f5ef4"
      },
      "execution_count": null,
      "outputs": [
        {
          "output_type": "display_data",
          "data": {
            "text/plain": [
              "<Figure size 800x500 with 1 Axes>"
            ],
            "image/png": "[encoded data removed]"
          },
          "metadata": {}
        }
      ]
    },
    {
      "cell_type": "code",
      "source": [
        "# Find total number of toxic comments in train\n",
        "x=train.iloc[:,2:].sum()\n",
        "print(\"Total number of toxic comments:\", x.sum())\n"
      ],
      "metadata": {
        "colab": {
          "base_uri": "https://localhost:8080/"
        },
        "id": "YWSvkwEmra7x",
        "outputId": "f6b83642-3b44-4608-cb4c-102e3ba4065c"
      },
      "execution_count": null,
      "outputs": [
        {
          "output_type": "stream",
          "name": "stdout",
          "text": [
            "Total number of toxic comments: 35098\n"
          ]
        }
      ]
    },
    {
      "cell_type": "markdown",
      "source": [
        "### Class Imbalance\n",
        "We can see there is a clear class imbalance in our data-only 35,098 comments are considered toxic, out of our dataset of 159,571; far more records have no toxic languge than do.  We'll need to take this into account when building our model.\n"
      ],
      "metadata": {
        "id": "N2Yy_hJp56gB"
      }
    },
    {
      "cell_type": "markdown",
      "source": [
        "## Train, Test, Val Split\n",
        "\n",
        "In order to ensure our data has no leakage, we'll perform an intitial train test split before cleaning our corpus"
      ],
      "metadata": {
        "id": "ZueXSwnSOfTh"
      }
    },
    {
      "cell_type": "code",
      "source": [
        "# Train dataframes\n",
        "Xtrain = train['comment_text']\n",
        "ytrain = train[['toxic', 'severe_toxic', 'obscene', 'threat', 'insult', 'identity_hate']]\n"
      ],
      "metadata": {
        "id": "MLpY6Z13x9da"
      },
      "execution_count": 7,
      "outputs": []
    },
    {
      "cell_type": "code",
      "source": [
        "#Train test split\n",
        "X_train_1, X_test, y_train_1, y_test = train_test_split(Xtrain, ytrain,\n",
        "                                                    test_size=0.15, random_state=42)\n"
      ],
      "metadata": {
        "id": "xdqsCj1UbczD"
      },
      "execution_count": 8,
      "outputs": []
    },
    {
      "cell_type": "code",
      "source": [
        " # Val split *Validation data abels for the test data could not be used per Kaggle \"value of -1 indicates it was not used for scoring; (Note: file added after competition close!)\"\n",
        " X_train, X_val, y_train, y_val= train_test_split(X_train_1, y_train_1,\n",
        "                                                    test_size=0.05, random_state=42)"
      ],
      "metadata": {
        "id": "er_Sf1P-LAyo"
      },
      "execution_count": 9,
      "outputs": []
    },
    {
      "cell_type": "code",
      "source": [
        "# Examine train test val\n",
        "print(\"Train Comments:\", X_train.head(2))\n",
        "print(\"--------------------------------\")\n",
        "\n",
        "print(\"Test Comments:\", X_test.head(2))\n",
        "print(\"--------------------------------\")\n",
        "\n",
        "print(\"Val Comments:\", X_val.head(2))\n",
        "print(\"--------------------------------\")\n",
        "\n",
        "print(\"Train Target Variables:\", y_train.head(2))\n",
        "print(\"--------------------------------\")\n",
        "\n",
        "print(\"Test Target Variables:\", y_test.head(2))\n",
        "print(\"--------------------------------\")\n",
        "\n",
        "print(\"Val Target Variables:\", y_val.head(2))\n",
        "print(\"--------------------------------\")\n"
      ],
      "metadata": {
        "colab": {
          "base_uri": "https://localhost:8080/"
        },
        "id": "wh3MEA5BzAVs",
        "outputId": "720022f8-8342-45a1-8db1-ff8f0cac6b61"
      },
      "execution_count": null,
      "outputs": [
        {
          "output_type": "stream",
          "name": "stdout",
          "text": [
            "Train Comments: 159023    service award\\nhello. i noticed you list yours...\n",
            "76867     \"\\nwelcome!hello and welcome to wikipedia. tha...\n",
            "Name: comment_text, dtype: object\n",
            "--------------------------------\n",
            "Test Comments: 119105    geez, are you forgetful!  we've already discus...\n",
            "131631    carioca rfa \\n\\nthanks for your support on my ...\n",
            "Name: comment_text, dtype: object\n",
            "--------------------------------\n",
            "Val Comments: 7608     \"\\n ok, i understand. -) i've been a racist fo...\n",
            "20119    again again again \\n\\nthis is not going to sto...\n",
            "Name: comment_text, dtype: object\n",
            "--------------------------------\n",
            "Train Target Variables:         toxic  severe_toxic  obscene  threat  insult  identity_hate\n",
            "159023      0             0        0       0       0              0\n",
            "76867       0             0        0       0       0              0\n",
            "--------------------------------\n",
            "Test Target Variables:         toxic  severe_toxic  obscene  threat  insult  identity_hate\n",
            "119105      0             0        0       0       0              0\n",
            "131631      0             0        0       0       0              0\n",
            "--------------------------------\n",
            "Val Target Variables:        toxic  severe_toxic  obscene  threat  insult  identity_hate\n",
            "7608       0             0        0       0       0              0\n",
            "20119      1             0        0       0       1              0\n",
            "--------------------------------\n"
          ]
        }
      ]
    },
    {
      "cell_type": "markdown",
      "source": [
        "# Data Preprocessing\n",
        "\n",
        "We'll untertake our next step, tokenizing our corpus, or splitting each comment into a series of words.  We'll have to make some decisions now about whether we remove stop words, what kinds of regex expressions we should use to clean the comments, if we should stem, lemmatize, or leave our text data as is before we come to our next step, vectorization.\n",
        "\n",
        "Because our dataset is quite large, we'll begin by removing stop words- large datasets become highly dimensionsal after they've been vectorized, and to minimize processing times we'll need to reduce the amount of tokens we pass in to our vector.  Removing stop words- the most common words in english that have little value in this use case, will help us do so.  However, we'll keep the word \"not\" in our corpus, as it's use to negate bad sentiment seems highly relevant to determining the toxicity of a comment.\n",
        "\n",
        "We'll also use regex expressions to clean up our comments by removing blanskspaces, web adresses, new line notation, non-words, and non ascii words.\n",
        "\n",
        "We'll hold off on stemming or lemmatizing for now.  If our results from our initial models are unsatisfactory, we'll circle back to stemming our tokens.\n"
      ],
      "metadata": {
        "id": "khMlZ0-W36UF"
      }
    },
    {
      "cell_type": "markdown",
      "source": [
        "### Clean Corpus"
      ],
      "metadata": {
        "id": "NWXJT7sLsPxN"
      }
    },
    {
      "cell_type": "code",
      "source": [
        "X_train = X_train.map(lambda com : clean_text(com))\n",
        "X_test = X_test.map(lambda com : clean_text(com))\n",
        "X_val = X_val.map(lambda com : clean_text(com))\n",
        "\n"
      ],
      "metadata": {
        "id": "__KYOC9SRaNi"
      },
      "execution_count": null,
      "outputs": []
    },
    {
      "cell_type": "code",
      "source": [
        "# Check lengths of comments\n",
        "seq_lengths = X_train.apply(lambda x: len(x.split(' ')))\n",
        "seq_lengths.describe()"
      ],
      "metadata": {
        "colab": {
          "base_uri": "https://localhost:8080/"
        },
        "id": "3lAHcpEsNnu8",
        "outputId": "d7c90aca-cb14-41b5-a265-6e141939190e"
      },
      "execution_count": null,
      "outputs": [
        {
          "output_type": "execute_result",
          "data": {
            "text/plain": [
              "count    128853.000000\n",
              "mean         37.138491\n",
              "std          57.355683\n",
              "min           1.000000\n",
              "25%           9.000000\n",
              "50%          20.000000\n",
              "75%          41.000000\n",
              "max        1250.000000\n",
              "Name: comment_text, dtype: float64"
            ]
          },
          "metadata": {},
          "execution_count": 36
        }
      ]
    },
    {
      "cell_type": "markdown",
      "source": [
        "We're checking the length of our comments to see what the average input length is- if we utilize more advanced modelling techniques each comment will need to be the same length, and so it will be important to discern what a good middle ground for shortening or padding our sequences will be.  In this case, our comments average about 37 words after cleaning.  With a STD of 57, and a max count of 1250, we'd do well to err on the larger size."
      ],
      "metadata": {
        "id": "Lfmsnhne9TrI"
      }
    },
    {
      "cell_type": "markdown",
      "source": [
        "## Multinomial Naive Bayes\n",
        "For our first model we'll build a pipeline that uses MultinomialNB:\n",
        "\n",
        "\"... NB models generally\n",
        "outperform the sophisticated, structure-sensitive\n",
        "models explored in recent work...\"\n",
        "[Baselines and Bigrams: Simple, Good Sentiment and Topic Classification](https://nlp.stanford.edu/pubs/sidaw12_simple_sentiment.pdf)\n",
        "\n"
      ],
      "metadata": {
        "id": "4mezK6uzYNxD"
      }
    },
    {
      "cell_type": "markdown",
      "source": [
        "### Vectorization\n",
        "In order to model and make predictions with our data we'll need to tranform our word tokens into vectors, or an array of numbers.\n",
        "\n",
        "Vectorization allows our model to:\n",
        "* Find word predictions\n",
        "* Find word similarities\n",
        "* Represent words in a lower-dimensional space\n",
        "* Allow words with similar meanings to have a similar representation\n",
        "* Approximate meaning\n",
        "\n",
        "The most straightforward vectorizer in sklearn.feature_extraction.text is the CountVectorizer, which will simply count the number of each word type in each document.  We'll also use TF-IDF: Term Frequency–Inverse Document Frequency- a a numerical statistic that’s intended to reflect how important a word is to a document.  This is a slightly more sophisticated version of bag of words.\n",
        "\n",
        "We'll use a pipeline to send both the CountVectorizer and TfidfTransformer vectors through a Multinomial Naive Bayes classifier, wrapping that in a MultiOutputClassifier to account for our 6 target variables.\n",
        "\n"
      ],
      "metadata": {
        "id": "tVGrgJgtHbWg"
      }
    },
    {
      "cell_type": "markdown",
      "source": [
        "Build pipeline"
      ],
      "metadata": {
        "id": "beGPwmCIIHBp"
      }
    },
    {
      "cell_type": "code",
      "source": [
        "nb = Pipeline([('vect', CountVectorizer()),\n",
        "               ('tfidf', TfidfTransformer()),\n",
        "               ('clf', MultiOutputClassifier(MultinomialNB()))\n",
        "               ])\n",
        "nb.fit(X_train, y_train)\n",
        "\n",
        "y_pred = nb.predict(X_test)\n",
        "\n",
        "print('accuracy %s' % accuracy_score(y_pred, y_test))\n",
        "print(\"----------------------------------------------------\")\n",
        "print(\"Test Classification Report\", classification_report(y_test, y_pred,target_names=y_test.columns))\n",
        "\n"
      ],
      "metadata": {
        "colab": {
          "base_uri": "https://localhost:8080/"
        },
        "id": "hPMcmZpKRBFa",
        "outputId": "2a28e25b-94bc-4cb9-95bf-66f5aaf20eee"
      },
      "execution_count": null,
      "outputs": [
        {
          "output_type": "stream",
          "name": "stdout",
          "text": [
            "accuracy 0.9015290775401069\n",
            "               precision    recall  f1-score   support\n",
            "\n",
            "        toxic       0.99      0.18      0.30      2260\n",
            " severe_toxic       0.00      0.00      0.00       225\n",
            "      obscene       0.99      0.11      0.20      1279\n",
            "       threat       0.00      0.00      0.00        53\n",
            "       insult       0.98      0.05      0.10      1192\n",
            "identity_hate       0.00      0.00      0.00       227\n",
            "\n",
            "    micro avg       0.99      0.12      0.21      5236\n",
            "    macro avg       0.49      0.06      0.10      5236\n",
            " weighted avg       0.89      0.12      0.20      5236\n",
            "  samples avg       0.02      0.01      0.01      5236\n",
            "\n"
          ]
        },
        {
          "output_type": "stream",
          "name": "stderr",
          "text": [
            "/usr/local/lib/python3.10/dist-packages/sklearn/metrics/_classification.py:1344: UndefinedMetricWarning: Precision and F-score are ill-defined and being set to 0.0 in labels with no predicted samples. Use `zero_division` parameter to control this behavior.\n",
            "  _warn_prf(average, modifier, msg_start, len(result))\n",
            "/usr/local/lib/python3.10/dist-packages/sklearn/metrics/_classification.py:1344: UndefinedMetricWarning: Precision and F-score are ill-defined and being set to 0.0 in samples with no predicted labels. Use `zero_division` parameter to control this behavior.\n",
            "  _warn_prf(average, modifier, msg_start, len(result))\n",
            "/usr/local/lib/python3.10/dist-packages/sklearn/metrics/_classification.py:1344: UndefinedMetricWarning: Recall and F-score are ill-defined and being set to 0.0 in samples with no true labels. Use `zero_division` parameter to control this behavior.\n",
            "  _warn_prf(average, modifier, msg_start, len(result))\n"
          ]
        }
      ]
    },
    {
      "cell_type": "markdown",
      "source": [
        "Precision measures the accuracy of positive predictions, and can be used to minimize  false positives. It quantifies the number of positive class predictions that actually belong to the positive class. We had a very small percentage of false positives, only 1%.\n",
        "\n",
        "\n",
        "Recall measures the completeness of positive predictions, and can be used to minimize  false positives. It quantifies the number of positive class predictions made out of all positive examples in the dataset.  The recall of our model was very poor, only 12%  of our total positives were captured.\n",
        "\n",
        "F1 scores are the harmonic mean of precision and recall, and often is more accurate than looking solely at precision or recall.  From our F1 scores of 30%, we can see that we're doing a poor job using a multioutput model.  Let's see if switching it to a binary output helps to improve our ability to identify toxic speech.\n"
      ],
      "metadata": {
        "id": "LDvkv1VtjOt3"
      }
    },
    {
      "cell_type": "code",
      "source": [
        "lables = ['toxic', 'severe_toxic', 'obscene', 'threat', 'insult', 'identity_hate']\n",
        "y_pred = np.argmax(nb.predict(X_test), axis=1)\n",
        "thresh = 0.5\n",
        "y_pred = (y_pred > thresh)\n",
        "\n",
        "ax= plt.subplot()\n",
        "\n",
        "cm = confusion_matrix(np.asarray(y_test).argmax(axis=1), y_pred)\n",
        "sns.heatmap(cm, annot=True, fmt='g', ax=ax, label=lables);\n",
        "\n",
        "# labels, title and ticks\n",
        "ax.set_xlabel('Predicted labels');ax.set_ylabel('True labels');\n",
        "ax.set_title('Confusion Matrix');\n",
        "\n"
      ],
      "metadata": {
        "colab": {
          "base_uri": "https://localhost:8080/",
          "height": 472
        },
        "id": "FVdO2AxVyi2-",
        "outputId": "7ed5d198-b457-404b-ab55-a68934fc85f4"
      },
      "execution_count": null,
      "outputs": [
        {
          "output_type": "display_data",
          "data": {
            "text/plain": [
              "<Figure size 640x480 with 2 Axes>"
            ],
            "image/png": "[encoded data removed]"
          },
          "metadata": {}
        }
      ]
    },
    {
      "cell_type": "markdown",
      "source": [
        "We can see that our classifier was unable to identify any toxic speech, instead labelling all speech as non-toxic.  This is likely due to our class imbalance.  In order to address that, we'll binarize our data (toxic speech is, after all, toxic speech regardless of it's form), in order to oversample our minority class.\n",
        "\n"
      ],
      "metadata": {
        "id": "dSxApqzzLeet"
      }
    },
    {
      "cell_type": "markdown",
      "source": [
        "## Binary target\n",
        "We'll use exactly the same preprocessing BUT add resampling using RandomOverSampler to account for our class imbalance, AND reshape our data to binary below."
      ],
      "metadata": {
        "id": "ZKf8yaPElAkf"
      }
    },
    {
      "cell_type": "code",
      "source": [
        "# Binarize target variables by converting all 6 types of toxic speech to 1 if cols= 'toxic', 'severe_toxic', 'obscene', 'threat','insult', 'identity_hate'\n",
        "\n",
        "cols=['toxic', 'severe_toxic', 'obscene', 'threat','insult', 'identity_hate']\n",
        "train['Toxic']=train[cols].max(axis=1).apply(lambda x: 1 if x ==1 else 0)"
      ],
      "metadata": {
        "id": "lGyCtFz_k_n3"
      },
      "execution_count": 10,
      "outputs": []
    },
    {
      "cell_type": "code",
      "source": [
        "# Check encoding\n",
        "train.head(5)"
      ],
      "metadata": {
        "colab": {
          "base_uri": "https://localhost:8080/",
          "height": 417
        },
        "id": "CYGnLuogmqZV",
        "outputId": "0c0ae6cd-71af-4a46-ea8f-128ee55f0bcf"
      },
      "execution_count": null,
      "outputs": [
        {
          "output_type": "execute_result",
          "data": {
            "text/plain": [
              "                 id                                       comment_text  toxic  \\\n",
              "0  0000997932d777bf  Explanation\\nWhy the edits made under my usern...      0   \n",
              "1  000103f0d9cfb60f  D'aww! He matches this background colour I'm s...      0   \n",
              "2  000113f07ec002fd  Hey man, I'm really not trying to edit war. It...      0   \n",
              "3  0001b41b1c6bb37e  \"\\nMore\\nI can't make any real suggestions on ...      0   \n",
              "4  0001d958c54c6e35  You, sir, are my hero. Any chance you remember...      0   \n",
              "\n",
              "   severe_toxic  obscene  threat  insult  identity_hate  Toxic  \n",
              "0             0        0       0       0              0      0  \n",
              "1             0        0       0       0              0      0  \n",
              "2             0        0       0       0              0      0  \n",
              "3             0        0       0       0              0      0  \n",
              "4             0        0       0       0              0      0  "
            ],
            "text/html": [
              "\n",
              "  <div id=\"df-9010055d-bd14-49f6-b836-5528df4a6b43\" class=\"colab-df-container\">\n",
              "    <div>\n",
              "<style scoped>\n",
              "    .dataframe tbody tr th:only-of-type {\n",
              "        vertical-align: middle;\n",
              "    }\n",
              "\n",
              "    .dataframe tbody tr th {\n",
              "        vertical-align: top;\n",
              "    }\n",
              "\n",
              "    .dataframe thead th {\n",
              "        text-align: right;\n",
              "    }\n",
              "</style>\n",
              "<table border=\"1\" class=\"dataframe\">\n",
              "  <thead>\n",
              "    <tr style=\"text-align: right;\">\n",
              "      <th></th>\n",
              "      <th>id</th>\n",
              "      <th>comment_text</th>\n",
              "      <th>toxic</th>\n",
              "      <th>severe_toxic</th>\n",
              "      <th>obscene</th>\n",
              "      <th>threat</th>\n",
              "      <th>insult</th>\n",
              "      <th>identity_hate</th>\n",
              "      <th>Toxic</th>\n",
              "    </tr>\n",
              "  </thead>\n",
              "  <tbody>\n",
              "    <tr>\n",
              "      <th>0</th>\n",
              "      <td>0000997932d777bf</td>\n",
              "      <td>Explanation\\nWhy the edits made under my usern...</td>\n",
              "      <td>0</td>\n",
              "      <td>0</td>\n",
              "      <td>0</td>\n",
              "      <td>0</td>\n",
              "      <td>0</td>\n",
              "      <td>0</td>\n",
              "      <td>0</td>\n",
              "    </tr>\n",
              "    <tr>\n",
              "      <th>1</th>\n",
              "      <td>000103f0d9cfb60f</td>\n",
              "      <td>D'aww! He matches this background colour I'm s...</td>\n",
              "      <td>0</td>\n",
              "      <td>0</td>\n",
              "      <td>0</td>\n",
              "      <td>0</td>\n",
              "      <td>0</td>\n",
              "      <td>0</td>\n",
              "      <td>0</td>\n",
              "    </tr>\n",
              "    <tr>\n",
              "      <th>2</th>\n",
              "      <td>000113f07ec002fd</td>\n",
              "      <td>Hey man, I'm really not trying to edit war. It...</td>\n",
              "      <td>0</td>\n",
              "      <td>0</td>\n",
              "      <td>0</td>\n",
              "      <td>0</td>\n",
              "      <td>0</td>\n",
              "      <td>0</td>\n",
              "      <td>0</td>\n",
              "    </tr>\n",
              "    <tr>\n",
              "      <th>3</th>\n",
              "      <td>0001b41b1c6bb37e</td>\n",
              "      <td>\"\\nMore\\nI can't make any real suggestions on ...</td>\n",
              "      <td>0</td>\n",
              "      <td>0</td>\n",
              "      <td>0</td>\n",
              "      <td>0</td>\n",
              "      <td>0</td>\n",
              "      <td>0</td>\n",
              "      <td>0</td>\n",
              "    </tr>\n",
              "    <tr>\n",
              "      <th>4</th>\n",
              "      <td>0001d958c54c6e35</td>\n",
              "      <td>You, sir, are my hero. Any chance you remember...</td>\n",
              "      <td>0</td>\n",
              "      <td>0</td>\n",
              "      <td>0</td>\n",
              "      <td>0</td>\n",
              "      <td>0</td>\n",
              "      <td>0</td>\n",
              "      <td>0</td>\n",
              "    </tr>\n",
              "  </tbody>\n",
              "</table>\n",
              "</div>\n",
              "    <div class=\"colab-df-buttons\">\n",
              "\n",
              "  <div class=\"colab-df-container\">\n",
              "    <button class=\"colab-df-convert\" onclick=\"convertToInteractive('df-9010055d-bd14-49f6-b836-5528df4a6b43')\"\n",
              "            title=\"Convert this dataframe to an interactive table.\"\n",
              "            style=\"display:none;\">\n",
              "\n",
              "  <svg xmlns=\"http://www.w3.org/2000/svg\" height=\"24px\" viewBox=\"0 -960 960 960\">\n",
              "    <path d=\"M120-120v-720h720v720H120Zm60-500h600v-160H180v160Zm220 220h160v-160H400v160Zm0 220h160v-160H400v160ZM180-400h160v-160H180v160Zm440 0h160v-160H620v160ZM180-180h160v-160H180v160Zm440 0h160v-160H620v160Z\"/>\n",
              "  </svg>\n",
              "    </button>\n",
              "\n",
              "  <style>\n",
              "    .colab-df-container {\n",
              "      display:flex;\n",
              "      gap: 12px;\n",
              "    }\n",
              "\n",
              "    .colab-df-convert {\n",
              "      background-color: #E8F0FE;\n",
              "      border: none;\n",
              "      border-radius: 50%;\n",
              "      cursor: pointer;\n",
              "      display: none;\n",
              "      fill: #1967D2;\n",
              "      height: 32px;\n",
              "      padding: 0 0 0 0;\n",
              "      width: 32px;\n",
              "    }\n",
              "\n",
              "    .colab-df-convert:hover {\n",
              "      background-color: #E2EBFA;\n",
              "      box-shadow: 0px 1px 2px rgba(60, 64, 67, 0.3), 0px 1px 3px 1px rgba(60, 64, 67, 0.15);\n",
              "      fill: #174EA6;\n",
              "    }\n",
              "\n",
              "    .colab-df-buttons div {\n",
              "      margin-bottom: 4px;\n",
              "    }\n",
              "\n",
              "    [theme=dark] .colab-df-convert {\n",
              "      background-color: #3B4455;\n",
              "      fill: #D2E3FC;\n",
              "    }\n",
              "\n",
              "    [theme=dark] .colab-df-convert:hover {\n",
              "      background-color: #434B5C;\n",
              "      box-shadow: 0px 1px 3px 1px rgba(0, 0, 0, 0.15);\n",
              "      filter: drop-shadow(0px 1px 2px rgba(0, 0, 0, 0.3));\n",
              "      fill: #FFFFFF;\n",
              "    }\n",
              "  </style>\n",
              "\n",
              "    <script>\n",
              "      const buttonEl =\n",
              "        document.querySelector('#df-9010055d-bd14-49f6-b836-5528df4a6b43 button.colab-df-convert');\n",
              "      buttonEl.style.display =\n",
              "        google.colab.kernel.accessAllowed ? 'block' : 'none';\n",
              "\n",
              "      async function convertToInteractive(key) {\n",
              "        const element = document.querySelector('#df-9010055d-bd14-49f6-b836-5528df4a6b43');\n",
              "        const dataTable =\n",
              "          await google.colab.kernel.invokeFunction('convertToInteractive',\n",
              "                                                    [key], {});\n",
              "        if (!dataTable) return;\n",
              "\n",
              "        const docLinkHtml = 'Like what you see? Visit the ' +\n",
              "          '<a target=\"_blank\" href=https://colab.research.google.com/notebooks/data_table.ipynb>data table notebook</a>'\n",
              "          + ' to learn more about interactive tables.';\n",
              "        element.innerHTML = '';\n",
              "        dataTable['output_type'] = 'display_data';\n",
              "        await google.colab.output.renderOutput(dataTable, element);\n",
              "        const docLink = document.createElement('div');\n",
              "        docLink.innerHTML = docLinkHtml;\n",
              "        element.appendChild(docLink);\n",
              "      }\n",
              "    </script>\n",
              "  </div>\n",
              "\n",
              "\n",
              "<div id=\"df-bea64830-444a-41c3-9767-272c9c5aa6cb\">\n",
              "  <button class=\"colab-df-quickchart\" onclick=\"quickchart('df-bea64830-444a-41c3-9767-272c9c5aa6cb')\"\n",
              "            title=\"Suggest charts.\"\n",
              "            style=\"display:none;\">\n",
              "\n",
              "<svg xmlns=\"http://www.w3.org/2000/svg\" height=\"24px\"viewBox=\"0 0 24 24\"\n",
              "     width=\"24px\">\n",
              "    <g>\n",
              "        <path d=\"M19 3H5c-1.1 0-2 .9-2 2v14c0 1.1.9 2 2 2h14c1.1 0 2-.9 2-2V5c0-1.1-.9-2-2-2zM9 17H7v-7h2v7zm4 0h-2V7h2v10zm4 0h-2v-4h2v4z\"/>\n",
              "    </g>\n",
              "</svg>\n",
              "  </button>\n",
              "\n",
              "<style>\n",
              "  .colab-df-quickchart {\n",
              "      --bg-color: #E8F0FE;\n",
              "      --fill-color: #1967D2;\n",
              "      --hover-bg-color: #E2EBFA;\n",
              "      --hover-fill-color: #174EA6;\n",
              "      --disabled-fill-color: #AAA;\n",
              "      --disabled-bg-color: #DDD;\n",
              "  }\n",
              "\n",
              "  [theme=dark] .colab-df-quickchart {\n",
              "      --bg-color: #3B4455;\n",
              "      --fill-color: #D2E3FC;\n",
              "      --hover-bg-color: #434B5C;\n",
              "      --hover-fill-color: #FFFFFF;\n",
              "      --disabled-bg-color: #3B4455;\n",
              "      --disabled-fill-color: #666;\n",
              "  }\n",
              "\n",
              "  .colab-df-quickchart {\n",
              "    background-color: var(--bg-color);\n",
              "    border: none;\n",
              "    border-radius: 50%;\n",
              "    cursor: pointer;\n",
              "    display: none;\n",
              "    fill: var(--fill-color);\n",
              "    height: 32px;\n",
              "    padding: 0;\n",
              "    width: 32px;\n",
              "  }\n",
              "\n",
              "  .colab-df-quickchart:hover {\n",
              "    background-color: var(--hover-bg-color);\n",
              "    box-shadow: 0 1px 2px rgba(60, 64, 67, 0.3), 0 1px 3px 1px rgba(60, 64, 67, 0.15);\n",
              "    fill: var(--button-hover-fill-color);\n",
              "  }\n",
              "\n",
              "  .colab-df-quickchart-complete:disabled,\n",
              "  .colab-df-quickchart-complete:disabled:hover {\n",
              "    background-color: var(--disabled-bg-color);\n",
              "    fill: var(--disabled-fill-color);\n",
              "    box-shadow: none;\n",
              "  }\n",
              "\n",
              "  .colab-df-spinner {\n",
              "    border: 2px solid var(--fill-color);\n",
              "    border-color: transparent;\n",
              "    border-bottom-color: var(--fill-color);\n",
              "    animation:\n",
              "      spin 1s steps(1) infinite;\n",
              "  }\n",
              "\n",
              "  @keyframes spin {\n",
              "    0% {\n",
              "      border-color: transparent;\n",
              "      border-bottom-color: var(--fill-color);\n",
              "      border-left-color: var(--fill-color);\n",
              "    }\n",
              "    20% {\n",
              "      border-color: transparent;\n",
              "      border-left-color: var(--fill-color);\n",
              "      border-top-color: var(--fill-color);\n",
              "    }\n",
              "    30% {\n",
              "      border-color: transparent;\n",
              "      border-left-color: var(--fill-color);\n",
              "      border-top-color: var(--fill-color);\n",
              "      border-right-color: var(--fill-color);\n",
              "    }\n",
              "    40% {\n",
              "      border-color: transparent;\n",
              "      border-right-color: var(--fill-color);\n",
              "      border-top-color: var(--fill-color);\n",
              "    }\n",
              "    60% {\n",
              "      border-color: transparent;\n",
              "      border-right-color: var(--fill-color);\n",
              "    }\n",
              "    80% {\n",
              "      border-color: transparent;\n",
              "      border-right-color: var(--fill-color);\n",
              "      border-bottom-color: var(--fill-color);\n",
              "    }\n",
              "    90% {\n",
              "      border-color: transparent;\n",
              "      border-bottom-color: var(--fill-color);\n",
              "    }\n",
              "  }\n",
              "</style>\n",
              "\n",
              "  <script>\n",
              "    async function quickchart(key) {\n",
              "      const quickchartButtonEl =\n",
              "        document.querySelector('#' + key + ' button');\n",
              "      quickchartButtonEl.disabled = true;  // To prevent multiple clicks.\n",
              "      quickchartButtonEl.classList.add('colab-df-spinner');\n",
              "      try {\n",
              "        const charts = await google.colab.kernel.invokeFunction(\n",
              "            'suggestCharts', [key], {});\n",
              "      } catch (error) {\n",
              "        console.error('Error during call to suggestCharts:', error);\n",
              "      }\n",
              "      quickchartButtonEl.classList.remove('colab-df-spinner');\n",
              "      quickchartButtonEl.classList.add('colab-df-quickchart-complete');\n",
              "    }\n",
              "    (() => {\n",
              "      let quickchartButtonEl =\n",
              "        document.querySelector('#df-bea64830-444a-41c3-9767-272c9c5aa6cb button');\n",
              "      quickchartButtonEl.style.display =\n",
              "        google.colab.kernel.accessAllowed ? 'block' : 'none';\n",
              "    })();\n",
              "  </script>\n",
              "</div>\n",
              "\n",
              "    </div>\n",
              "  </div>\n"
            ]
          },
          "metadata": {},
          "execution_count": 22
        }
      ]
    },
    {
      "cell_type": "code",
      "source": [
        "# Examine class imbalance\n",
        "enc_train= train[['Toxic', 'comment_text']]\n",
        "\n",
        "val_counts = enc_train['Toxic'].value_counts()\n",
        "\n",
        "plt.figure(figsize=(8,5))\n",
        "ax = sns.barplot(x= val_counts.index, y= val_counts.values, alpha=0.8)\n",
        "\n",
        "plt.title(\"Comments per Class\")\n",
        "plt.xlabel(\"Comment Type\")\n",
        "plt.ylabel(\"Counts of Comments\")"
      ],
      "metadata": {
        "colab": {
          "base_uri": "https://localhost:8080/",
          "height": 504
        },
        "id": "MuYnLFeZ46yC",
        "outputId": "22932bc8-40c3-4365-ef89-1017b9a2e872"
      },
      "execution_count": null,
      "outputs": [
        {
          "output_type": "execute_result",
          "data": {
            "text/plain": [
              "Text(0, 0.5, 'Counts of Comments')"
            ]
          },
          "metadata": {},
          "execution_count": 17
        },
        {
          "output_type": "display_data",
          "data": {
            "text/plain": [
              "<Figure size 800x500 with 1 Axes>"
            ],
            "image/png": "[encoded data removed]"
          },
          "metadata": {}
        }
      ]
    },
    {
      "cell_type": "code",
      "source": [
        "# Train test dataframes\n",
        "train_bi = train['comment_text']\n",
        "ytrain_bi = train['Toxic']\n"
      ],
      "metadata": {
        "id": "uZhoVO-ymqzA"
      },
      "execution_count": 11,
      "outputs": []
    },
    {
      "cell_type": "code",
      "source": [
        "#Train test split\n",
        "X_train_1, X_test_bi, y_train_1, y_test_bi = train_test_split(train_bi, ytrain_bi,\n",
        "                                                    test_size=0.15, random_state=42)\n"
      ],
      "metadata": {
        "id": "7zOR8iY9mqzB"
      },
      "execution_count": null,
      "outputs": []
    },
    {
      "cell_type": "code",
      "source": [
        " # Val split *Validation data abels for the test data could not be used per Kaggle \"value of -1 indicates it was not used for scoring; (Note: file added after competition close!)\"\n",
        "X_train_bi, X_val_bi, y_train_bi, y_val_bi= train_test_split(X_train_1, y_train_1,\n",
        "                                                    test_size=0.05, random_state=42)"
      ],
      "metadata": {
        "id": "ftv6ScNImqzC"
      },
      "execution_count": null,
      "outputs": []
    },
    {
      "cell_type": "code",
      "source": [
        "#Clean text\n",
        "X_train_bi = X_train_bi.map(lambda com : clean_text(com))\n",
        "X_test_bi = X_test_bi.map(lambda com : clean_text(com))\n",
        "X_val_bi = X_val_bi.map(lambda com : clean_text(com))"
      ],
      "metadata": {
        "id": "eGXFwncAox1n"
      },
      "execution_count": null,
      "outputs": []
    },
    {
      "cell_type": "code",
      "source": [
        "#pipeline to vectorize, oversample, build and score model\n",
        "nb2 = Pipe([('vect', CountVectorizer()),\n",
        "            ('tfidf', TfidfTransformer()),\n",
        "            ('sampler', RandomOverSampler()),\n",
        "            ('clf', MultinomialNB()),\n",
        "])\n",
        "nb2.fit(X_train_bi, y_train_bi)\n",
        "\n",
        "y_pred_bi = nb2.predict(X_test_bi)\n",
        "\n",
        "print('accuracy %s' % accuracy_score(y_pred_bi, y_test_bi))\n",
        "print(classification_report(y_test_bi, y_pred_bi))"
      ],
      "metadata": {
        "colab": {
          "base_uri": "https://localhost:8080/"
        },
        "id": "zQa9yEdroyB7",
        "outputId": "37b27a38-6fef-45a5-8faf-51bf558bef39"
      },
      "execution_count": null,
      "outputs": [
        {
          "output_type": "stream",
          "name": "stdout",
          "text": [
            "accuracy 0.8978108288770054\n",
            "              precision    recall  f1-score   support\n",
            "\n",
            "           0       0.98      0.90      0.94     21542\n",
            "           1       0.49      0.87      0.63      2394\n",
            "\n",
            "    accuracy                           0.90     23936\n",
            "   macro avg       0.74      0.89      0.79     23936\n",
            "weighted avg       0.94      0.90      0.91     23936\n",
            "\n"
          ]
        }
      ]
    },
    {
      "cell_type": "code",
      "source": [
        "# plot confusion matrix\n",
        "ax= plt.subplot()\n",
        "\n",
        "cm = confusion_matrix(np.asarray(y_test_bi), y_pred_bi)\n",
        "sns.heatmap(cm, annot=True, fmt='g', ax=ax);\n",
        "\n",
        "# labels, title and ticks\n",
        "ax.set_xlabel('Predicted labels');ax.set_ylabel('True labels');\n",
        "ax.set_title('Confusion Matrix');"
      ],
      "metadata": {
        "colab": {
          "base_uri": "https://localhost:8080/",
          "height": 472
        },
        "id": "LpFUX2Gcqi-R",
        "outputId": "11126596-b028-4be6-f5ec-eada668c0531"
      },
      "execution_count": null,
      "outputs": [
        {
          "output_type": "display_data",
          "data": {
            "text/plain": [
              "<Figure size 640x480 with 2 Axes>"
            ],
            "image/png": "[encoded data removed]"
          },
          "metadata": {}
        }
      ]
    },
    {
      "cell_type": "markdown",
      "source": [
        "This model does a much better job of identifying toxic speech, and it does minimize the number of normal comments being classified as toxic.  However it is deeply worrisome that over 1/2 of our toxic comments are being labled non-toxic.\n",
        "\n",
        "Let's see if using a neural network with embeddings can improve our ability to detect toxic speech."
      ],
      "metadata": {
        "id": "samDjw-3Yqfd"
      }
    },
    {
      "cell_type": "markdown",
      "source": [
        "#  Model Using Embeddings\n",
        "An embedding is a mapping of a discrete — categorical — variable to a vector of continuous numbers. In the context of neural networks, embeddings are low-dimensional, learned continuous vector representations of discrete variables. Neural network embeddings are useful because they can reduce the dimensionality of categorical variables and meaningfully represent categories in the transformed space, meaning \"the semantic relationships between words are reflected in the distance and direction of the vectors.\"  [Word embeddings for sentiment analysis](https://towardsdatascience.com/word-embeddings-for-sentiment-analysis-65f42ea5d26e).  Special thanks to\n",
        "Bert Carremans, the author of that article, from which much of the following code is adapted.\n",
        "\n",
        "Neural network embeddings have 3 primary purposes:\n",
        "\n",
        "1.  Finding nearest neighbors in the embedding space. These can be used to make recommendations based on user interests or cluster categories.\n",
        "2.  As input to a machine learning model for a supervised task.\n",
        "3.  For visualization of concepts and relations between categories.\n",
        "\n",
        "This makes modelling using embeddings the perfect choice for this task- we're looking to find the relationship between certain tokens and classification of speech as toxic. In particular, were looking to capture semantic relationships between words. Words with similar meanings tend to have similar vector representations, allowing it to understand word context and similarity.  We'll see if this applies to our test data in this application.\n",
        "\n",
        "We'll use a vocab size of 500\n",
        "\n"
      ],
      "metadata": {
        "id": "6dj5qrCsWDMG"
      }
    },
    {
      "cell_type": "code",
      "source": [
        "# Import statements\n",
        "from tensorflow.keras.layers import LSTM, GRU, Dense, Embedding, Dropout, GlobalAveragePooling1D, Flatten, SpatialDropout1D, Bidirectional\n",
        "from gensim.models import KeyedVectors\n",
        "from tensorflow.keras.callbacks import EarlyStopping\n",
        "\n"
      ],
      "metadata": {
        "id": "bHqZNwymJTS1"
      },
      "execution_count": 12,
      "outputs": []
    },
    {
      "cell_type": "code",
      "source": [
        "# set important variables\n",
        "max_len = 50\n",
        "trunc_type = 'post'\n",
        "padding_type = 'post'\n",
        "oov_tok = '<OOV>' # out of vocabulary token\n",
        "vocab_size = 500"
      ],
      "metadata": {
        "id": "yR5GChisfGEq"
      },
      "execution_count": 25,
      "outputs": []
    },
    {
      "cell_type": "code",
      "source": [
        "train_e = train['comment_text']\n",
        "ytrain_e = train['Toxic']"
      ],
      "metadata": {
        "id": "XTtG2O3GRubC"
      },
      "execution_count": 26,
      "outputs": []
    },
    {
      "cell_type": "code",
      "source": [
        "x_train, x_test, y_train, y_test = train_test_split(train_e, ytrain_e, test_size=0.2)\n",
        "\n"
      ],
      "metadata": {
        "id": "8AXpx4TDiYw_"
      },
      "execution_count": 27,
      "outputs": []
    },
    {
      "cell_type": "code",
      "source": [
        "tokenizer = Tokenizer(num_words = vocab_size,\n",
        "                      char_level = False,\n",
        "                      oov_token = oov_tok)\n",
        "tokenizer.fit_on_texts(x_train)"
      ],
      "metadata": {
        "id": "r3ouigTNh4qe"
      },
      "execution_count": 28,
      "outputs": []
    },
    {
      "cell_type": "code",
      "source": [
        "# Get the word_index\n",
        "word_index = tokenizer.word_index\n",
        "total_words = len(word_index)\n",
        "total_words"
      ],
      "metadata": {
        "colab": {
          "base_uri": "https://localhost:8080/",
          "height": 0
        },
        "id": "qqeQoqxFh4tf",
        "outputId": "f2624480-b576-470a-981d-e48e8cff6bbd"
      },
      "execution_count": 29,
      "outputs": [
        {
          "output_type": "execute_result",
          "data": {
            "text/plain": [
              "183314"
            ]
          },
          "metadata": {},
          "execution_count": 29
        }
      ]
    },
    {
      "cell_type": "code",
      "source": [
        "# Tokenize and pad train set\n",
        "training_sequences = tokenizer.texts_to_sequences(x_train)\n",
        "training_padded = pad_sequences(training_sequences,\n",
        "                                maxlen = max_len,\n",
        "                                padding = padding_type,\n",
        "                                truncating = trunc_type)"
      ],
      "metadata": {
        "id": "aBdMg3Nhh4wN"
      },
      "execution_count": 30,
      "outputs": []
    },
    {
      "cell_type": "code",
      "source": [
        "# Tokenize and pad test set\n",
        "testing_sequences = tokenizer.texts_to_sequences(x_test)\n",
        "testing_padded = pad_sequences(testing_sequences,\n",
        "                               maxlen = max_len,\n",
        "                               padding = padding_type,\n",
        "                               truncating = trunc_type)"
      ],
      "metadata": {
        "id": "nAXWfznPh4zC"
      },
      "execution_count": 31,
      "outputs": []
    },
    {
      "cell_type": "code",
      "source": [
        "# examine shape\n",
        "print('Shape of training tensor: ', training_padded.shape)\n",
        "print('Shape of testing tensor: ', testing_padded.shape)"
      ],
      "metadata": {
        "colab": {
          "base_uri": "https://localhost:8080/",
          "height": 0
        },
        "id": "mRnI6LlXiMkM",
        "outputId": "2089309b-1779-42fb-9c0b-216d77470eca"
      },
      "execution_count": 32,
      "outputs": [
        {
          "output_type": "stream",
          "name": "stdout",
          "text": [
            "Shape of training tensor:  (127656, 500)\n",
            "Shape of testing tensor:  (31915, 500)\n"
          ]
        }
      ]
    },
    {
      "cell_type": "markdown",
      "source": [
        "### Model Architecture\n",
        "Below we'll build a relatively simple neural network with embeddings.  We'll employ the following layers:\n",
        "\n",
        "\n",
        "* __Embedding:__ An embedding layer is a hidden layer in a neural network. It maps input information from a high-dimensional to a lower-dimensional space. This allows the network to learn more about the relationship between inputs and to process the data more efficiently.\n",
        "\n",
        "* __GlobalAveragePooling1D:__ returns a fixed-length output, allows model to handle input of variable length.\n",
        "\n",
        "* __Dense:__ a Dense layer feeds all outputs from the previous layer to all its neurons, each neuron providing one output to the next layer. It's the most basic layer in neural networks.  Adding dense layers can empower networks ability to classify features better, but for this starter neural network we'll just use 1\n",
        "\n",
        "* __Dropout:__ a regularization approach that prevents overfitting by dropping nodes, thereby ensuring that no units are codependent with one another.\n",
        "\n",
        "* __Denese:__ our last dense layer with sigmoid function for binary encoded target"
      ],
      "metadata": {
        "id": "kaThfLM9df8i"
      }
    },
    {
      "cell_type": "code",
      "source": [
        "# Define parameters\n",
        "vocab_size = 500\n",
        "embedding_dim = 16\n",
        "drop_value = 0.2\n",
        "n_dense = 24\n",
        "# Define Dense Model Architecture\n",
        "model = Sequential()\n",
        "model.add(Embedding(vocab_size,\n",
        "                    embedding_dim,\n",
        "                    input_length = max_len))\n",
        "model.add(GlobalAveragePooling1D())\n",
        "model.add(Dense(24, activation='relu'))\n",
        "model.add(Dropout(drop_value))\n",
        "model.add(Dense(1, activation='sigmoid'))"
      ],
      "metadata": {
        "id": "rwldZHrxiMm7"
      },
      "execution_count": 33,
      "outputs": []
    },
    {
      "cell_type": "code",
      "source": [
        "def recall_m(y_true, y_pred):\n",
        "    true_positives = K.sum(K.round(K.clip(y_true * y_pred, 0, 1)))\n",
        "    possible_positives = K.sum(K.round(K.clip(y_true, 0, 1)))\n",
        "    recall = true_positives / (possible_positives + K.epsilon())\n",
        "    return recall\n",
        "\n",
        "def precision_m(y_true, y_pred):\n",
        "    true_positives = K.sum(K.round(K.clip(y_true * y_pred, 0, 1)))\n",
        "    predicted_positives = K.sum(K.round(K.clip(y_pred, 0, 1)))\n",
        "    precision = true_positives / (predicted_positives + K.epsilon())\n",
        "    return precision\n",
        "\n",
        "def f1_m(y_true, y_pred):\n",
        "    precision = precision_m(y_true, y_pred)\n",
        "    recall = recall_m(y_true, y_pred)\n",
        "    return 2*((precision*recall)/(precision+recall+K.epsilon()))\n",
        "\n"
      ],
      "metadata": {
        "id": "MR2DdtvH6JoE"
      },
      "execution_count": 40,
      "outputs": []
    },
    {
      "cell_type": "code",
      "source": [
        "# compile model\n",
        "model.compile(loss = 'binary_crossentropy', optimizer = 'adam' , metrics = ['acc', f1_m,precision_m, recall_m])"
      ],
      "metadata": {
        "id": "rSFCoEHCiMqO"
      },
      "execution_count": 42,
      "outputs": []
    },
    {
      "cell_type": "code",
      "source": [
        "# fit model\n",
        "num_epochs = 6\n",
        "early_stop = EarlyStopping(monitor='val_loss', patience=3)\n",
        "history = model.fit(training_padded,\n",
        "                    y_train,\n",
        "                    epochs=num_epochs,\n",
        "                    validation_data=(testing_padded, y_test),\n",
        "                    callbacks =[early_stop],\n",
        "                    verbose=2)"
      ],
      "metadata": {
        "colab": {
          "base_uri": "https://localhost:8080/",
          "height": 0
        },
        "id": "JJruuFR1iYUI",
        "outputId": "779d6354-2c30-495a-ae8f-f2caeda63877"
      },
      "execution_count": 43,
      "outputs": [
        {
          "output_type": "stream",
          "name": "stdout",
          "text": [
            "Epoch 1/6\n",
            "3990/3990 - 12s - loss: 0.1829 - acc: 0.9355 - f1_m: 0.5087 - precision_m: 0.6989 - recall_m: 0.4372 - val_loss: 0.1889 - val_acc: 0.9338 - val_f1_m: 0.4753 - val_precision_m: 0.6935 - val_recall_m: 0.3922 - 12s/epoch - 3ms/step\n",
            "Epoch 2/6\n",
            "3990/3990 - 11s - loss: 0.1814 - acc: 0.9362 - f1_m: 0.5105 - precision_m: 0.6966 - recall_m: 0.4398 - val_loss: 0.1978 - val_acc: 0.9302 - val_f1_m: 0.5611 - val_precision_m: 0.6532 - val_recall_m: 0.5454 - 11s/epoch - 3ms/step\n",
            "Epoch 3/6\n",
            "3990/3990 - 12s - loss: 0.1803 - acc: 0.9363 - f1_m: 0.5125 - precision_m: 0.7027 - recall_m: 0.4416 - val_loss: 0.1828 - val_acc: 0.9353 - val_f1_m: 0.5107 - val_precision_m: 0.7131 - val_recall_m: 0.4339 - 12s/epoch - 3ms/step\n",
            "Epoch 4/6\n",
            "3990/3990 - 12s - loss: 0.1790 - acc: 0.9367 - f1_m: 0.5178 - precision_m: 0.7136 - recall_m: 0.4416 - val_loss: 0.1847 - val_acc: 0.9351 - val_f1_m: 0.5417 - val_precision_m: 0.7036 - val_recall_m: 0.4825 - 12s/epoch - 3ms/step\n",
            "Epoch 5/6\n",
            "3990/3990 - 12s - loss: 0.1783 - acc: 0.9370 - f1_m: 0.5178 - precision_m: 0.7105 - recall_m: 0.4446 - val_loss: 0.1841 - val_acc: 0.9348 - val_f1_m: 0.4772 - val_precision_m: 0.7061 - val_recall_m: 0.3885 - 12s/epoch - 3ms/step\n",
            "Epoch 6/6\n",
            "3990/3990 - 13s - loss: 0.1771 - acc: 0.9372 - f1_m: 0.5228 - precision_m: 0.7195 - recall_m: 0.4482 - val_loss: 0.1822 - val_acc: 0.9354 - val_f1_m: 0.5049 - val_precision_m: 0.7119 - val_recall_m: 0.4255 - 13s/epoch - 3ms/step\n"
          ]
        }
      ]
    },
    {
      "cell_type": "code",
      "source": [
        "# evaluate the model\n",
        "'''\n",
        "These are global metrics, but Keras works in batches.\n",
        "We'll see only the scores for the last batch run.\n",
        "As a result, it might be more misleading than helpful,\n",
        "but we'll examine them in conjunction with our confusion matrix.\n",
        "'''\n",
        "loss, accuracy, f1_score, precision, recall = model.evaluate(testing_padded, y_test, verbose=0)"
      ],
      "metadata": {
        "id": "4ZSVmwY0iYdm"
      },
      "execution_count": 46,
      "outputs": []
    },
    {
      "cell_type": "code",
      "source": [
        "print(\"Accuracy\", accuracy )\n",
        "print(f\"F1 Score: {f1_score}\")\n",
        "print(f\"Precision: {precision}\")\n",
        "print(f\"Recall: {recall}\")"
      ],
      "metadata": {
        "colab": {
          "base_uri": "https://localhost:8080/",
          "height": 0
        },
        "id": "d9vzUG4g7Zrn",
        "outputId": "8fb9726c-048d-4a9e-a369-7766abafef79"
      },
      "execution_count": 48,
      "outputs": [
        {
          "output_type": "stream",
          "name": "stdout",
          "text": [
            "Accuracy 0.9354222416877747\n",
            "F1 Score: 0.5049117207527161\n",
            "Precision: 0.7118903398513794\n",
            "Recall: 0.4254811406135559\n"
          ]
        }
      ]
    },
    {
      "cell_type": "code",
      "source": [
        "# plot test confusion matrix\n",
        "y_hat_test = model.predict(testing_padded)\n",
        "thresh = 0.5\n",
        "y_pred = (y_hat_test > thresh).astype(int)\n",
        "y_true = y_test.astype(int)\n",
        "cm = confusion_matrix(y_true, y_pred)\n",
        "sns.heatmap(cm, annot=True, cmap='Blues', fmt='0.5g')\n",
        "plt.xlabel('Predictions')\n",
        "plt.ylabel('Actual')\n",
        "plt.title('Test Confusion Matrix')\n",
        "plt.show()"
      ],
      "metadata": {
        "colab": {
          "base_uri": "https://localhost:8080/",
          "height": 489
        },
        "id": "-Gn_UTnuiYiw",
        "outputId": "7cc13146-6013-4f18-d22a-6387d84d76e3"
      },
      "execution_count": null,
      "outputs": [
        {
          "output_type": "stream",
          "name": "stdout",
          "text": [
            "998/998 [==============================] - 1s 1ms/step\n"
          ]
        },
        {
          "output_type": "display_data",
          "data": {
            "text/plain": [
              "<Figure size 640x480 with 2 Axes>"
            ],
            "image/png": "[encoded data removed]"
          },
          "metadata": {}
        }
      ]
    },
    {
      "cell_type": "markdown",
      "source": [
        "## Conclusions\n",
        "\n",
        "As we can see, our model has vastly improved it's ability to find toxic speech.  Although use of word embeddings has exacerbated our false negatives (the number of normal comments labelled toxic), we did see a significant reduction in the number of false positives (non toxic comments percieved as toxic).  However, the a significant increase in the number of false negatievs remains problematic.  Our model must be able to do everything- we want to ensure that we are catching as many toxic comments as possible, as well as not mislabling nontoxic comments, which would be problematic for users.  \n",
        "\n",
        "We can begin to use our embedded  neural network  for our vMod, as a way to reduce workload on comment screeners.  We had the lowest incidences of false positives with that model- it was fairly successfull at identifying toxic speech, missing only 132 instances in our test set.\n",
        "\n",
        "\n"
      ],
      "metadata": {
        "id": "ayfZA-ZdFL5P"
      }
    },
    {
      "cell_type": "markdown",
      "source": [
        "## Next Steps\n",
        "\n",
        "It's highly likely that the difficulty we're experiencing in differentiating toxic from non-toxic speech could be overcome with some small changes.  Note that our model drastically improved it's ability to predict toxic speech with embeddings- a hint that in order to improve our recall and accuracy we could coontinue to experiment with tuning our parameters- even something as simple as shifting our vocab up to 5000. Our first steps should be to experiment further with this model.\n",
        "\n",
        "Additionally, we'd begun work on a BERT model, (Bidirectional Encoder Representations from Transformers), a cutting edge pretrained black box NLP model developed by Google.  BERT models use embeddings (vectors representing tokens(words)), encoders (tranformers that manipulate embeddings), and un-embedding.  BERT learns latent representations of words and sentences in context through a masking and replacement.  With a 30,000 word vocabulary, it has the strongest starting place for classification tasks of the available technologies.  Our second step will be to complete this model, and compare it's precision (the measure of false negatives).  \n",
        "\n"
      ],
      "metadata": {
        "id": "G5c9B_AfIqIy"
      }
    }
  ]
}