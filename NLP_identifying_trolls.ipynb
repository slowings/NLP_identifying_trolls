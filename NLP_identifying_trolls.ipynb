{
  "nbformat": 4,
  "nbformat_minor": 0,
  "metadata": {
    "colab": {
      "provenance": [],
      "machine_shape": "hm"
    },
    "kernelspec": {
      "name": "python3",
      "display_name": "Python 3"
    },
    "language_info": {
      "name": "python"
    }
  },
  "cells": [
    {
      "cell_type": "markdown",
      "source": [
        "# Overview\n",
        "For this capstone project I will be working on identifying online harassment using NLP.  Why focus on harassment?  Well, for starters, it's a problem that affects a quarter of the population in the U.S.  Additionally, according to a [2021 Pew research poll]( (https://www.pewresearch.org/internet/2021/01/13/the-state-of-online-harassment/)), 79% of respondants \"say social media companies are doing an only fair or poor job at addressing online harassment or bullying on their platforms.\"  Our goal is to construct a virtual moderator, or vMOD, a NLP model that is capable of predicting if a comment is harassment or not, and automatically blocks users who are sending hateful comments.\n",
        "\n",
        "\n",
        "\"Fully 33% of women under 35 say they have been sexually harassed online\", For those who identify as LBGTQA, \"51% have been targeted for more severe forms of online abuse.\"\n",
        "\n",
        "\"Among adults who have been harassed online, roughly half of women (47%) say they think they have encountered harassment online because of their gender, whereas 18% of men who have been harassed online say the same. Similarly, about half or more Black (54%) or Hispanic online harassment targets (47%) say they were harassed due to their race or ethnicity, compared with 17% of White targets.\"\n",
        "\n",
        "\n",
        "[Plos article](https://journals.plos.org/plosone/article?id=10.1371/journal.pone.0221152)\n"
      ],
      "metadata": {
        "id": "pL4logT6ia78"
      }
    },
    {
      "cell_type": "markdown",
      "source": [
        "# Data Understanding\n",
        "\n",
        "\n",
        "Our data comes from a [Kaggle competetion](https://www.kaggle.com/competitions/jigsaw-toxic-comment-classification-challenge/data), Identifying Toxic Comments, a dataset comprising of 159571 data points.\n",
        "measures of central tendency, spread, give broad narrative of data itself.  \n",
        "\n",
        "How we clean and preprocess our data will have a major effect on the conclusions we can draw\n",
        "\n",
        "The Natural Language Tool Kit (NLTK) is one of the most popular Python libraries for NLP\n",
        "\n",
        "Regular Expressions are an important part of NLP, which can be used for pattern matching and filtering\n",
        "\n",
        "**Feature Engineering** is essential when working with text data, and to understand the dynamics of your text:\n",
        "* Common feature engineering techniques are removing stop words, stemming, lemmatization, and n-grams\n",
        "* When diving deeper into grammar and linguistics, context-free grammars and part-of-speech tagging is important\n",
        "* In this context, parse trees can help computers when dealing with ambiguous words\n",
        "\n",
        "\n",
        "Then talk about automating process using [Kaggle API key](https://www.kaggle.com/docs/api).\n",
        "\n",
        "Per [A Literature Survey on Algorithms for Multi-label\n",
        "Learning](https://citeseerx.ist.psu.edu/viewdoc/download?doi=10.1.1.364.5612&rep=rep1&type=pdf) \"in multi-label classification, predictions for an instance is a set of labels and, therefore, the prediction\n",
        "can be fully correct, partially correct (with different levels of correctness) or fully incorrect. None of\n",
        "these existing evaluation metrics capture such notion in their original form. This makes evaluation\n",
        "of a multi-label classifier more challenging than evaluation of a single label classifier.\""
      ],
      "metadata": {
        "id": "vO5a94oCGxc9"
      }
    },
    {
      "cell_type": "code",
      "source": [],
      "metadata": {
        "id": "61V0ubZ7Gwxy"
      },
      "execution_count": null,
      "outputs": []
    },
    {
      "cell_type": "markdown",
      "source": [
        "## Import Data\n",
        "In this section we'll take a preliminary look at our data to get a feel for what we're working with. Let's begin with our import statements and then by taking a look at the contents of our train data directory."
      ],
      "metadata": {
        "id": "xUG-6cvN305k"
      }
    },
    {
      "cell_type": "code",
      "source": [
        "import sys, re, os, csv, codecs, string\n",
        "import numpy as np, pandas as pd, matplotlib.pyplot as plt, seaborn as sns\n",
        "from google.colab import drive\n",
        "\n",
        "import tensorflow as tf\n",
        "import tensorflow_hub as hub\n",
        "\n",
        "from tensorflow import keras\n",
        "from keras import initializers, regularizers, constraints, optimizers, layers\n",
        "from keras.models import Model, Sequential\n",
        "from keras.preprocessing.text import Tokenizer\n",
        "from keras.preprocessing.sequence import pad_sequences\n",
        "from keras.layers import Dense, Flatten, Input, LSTM, Embedding, Dropout, Activation, Bidirectional, GlobalMaxPool1D, SpatialDropout1D, BatchNormalization\n",
        "from keras.preprocessing import sequence\n",
        "\n",
        "\n",
        "import shutil\n",
        "\n",
        "import nltk\n",
        "from nltk import pos_tag\n",
        "from nltk.tokenize import regexp_tokenize, word_tokenize, RegexpTokenizer\n",
        "from nltk.corpus import stopwords, wordnet\n",
        "from nltk.stem import WordNetLemmatizer\n",
        "\n",
        "nltk.download('stopwords')\n",
        "nltk.download('averaged_perceptron_tagger')\n",
        "nltk.download('wordnet')\n",
        "\n",
        "from sklearn.pipeline import Pipeline\n",
        "from sklearn.feature_extraction.text import TfidfVectorizer, CountVectorizer\n",
        "from sklearn.ensemble import RandomForestClassifier\n",
        "from sklearn.naive_bayes import MultinomialNB\n",
        "from sklearn.metrics import accuracy_score, precision_score, confusion_matrix\n",
        "from sklearn.linear_model import LogisticRegression\n",
        "from sklearn.model_selection import train_test_split\n",
        "\n"
      ],
      "metadata": {
        "id": "om6J0GPXvb7Y",
        "colab": {
          "base_uri": "https://localhost:8080/"
        },
        "outputId": "f692fca5-6f50-482c-97b6-65c0cc97a481"
      },
      "execution_count": 2,
      "outputs": [
        {
          "output_type": "stream",
          "name": "stderr",
          "text": [
            "[nltk_data] Downloading package stopwords to /root/nltk_data...\n",
            "[nltk_data]   Package stopwords is already up-to-date!\n",
            "[nltk_data] Downloading package averaged_perceptron_tagger to\n",
            "[nltk_data]     /root/nltk_data...\n",
            "[nltk_data]   Package averaged_perceptron_tagger is already up-to-\n",
            "[nltk_data]       date!\n",
            "[nltk_data] Downloading package wordnet to /root/nltk_data...\n",
            "[nltk_data]   Package wordnet is already up-to-date!\n"
          ]
        }
      ]
    },
    {
      "cell_type": "code",
      "source": [
        "# Get current directory\n",
        "print(os.getcwd())\n",
        "\n",
        "# Get contents of the directory\n",
        "print(os.listdir())"
      ],
      "metadata": {
        "id": "Ghs8xm_zuMWd",
        "colab": {
          "base_uri": "https://localhost:8080/"
        },
        "outputId": "bf770787-3509-4d93-82b5-8a88a7479157"
      },
      "execution_count": null,
      "outputs": [
        {
          "output_type": "stream",
          "name": "stdout",
          "text": [
            "/content\n",
            "['.config', 'drive', 'sample_data']\n"
          ]
        }
      ]
    },
    {
      "cell_type": "code",
      "source": [
        "# Set path to xrays.  Hint- right click on the file you want to copy file path\n",
        "drive_path = '/content/drive/MyDrive/Colab_Notebooks/jigsaw-toxic-comment-classification-challenge.zip'\n"
      ],
      "metadata": {
        "id": "-EtsdOdMLFpx"
      },
      "execution_count": 2,
      "outputs": []
    },
    {
      "cell_type": "code",
      "source": [
        "# Navigate to corpus\n",
        "!cp '{drive_path}' ."
      ],
      "metadata": {
        "id": "AgRyA_Xm1_Bi"
      },
      "execution_count": 3,
      "outputs": []
    },
    {
      "cell_type": "code",
      "source": [
        "# Get current directory/confirm correct path\n",
        "print(os.getcwd())\n",
        "\n",
        "# Get contents of the directory\n",
        "print(os.listdir())"
      ],
      "metadata": {
        "colab": {
          "base_uri": "https://localhost:8080/"
        },
        "id": "DasrgsS8QaIF",
        "outputId": "0511039f-a23d-40da-cfcc-509ed1fc30a3"
      },
      "execution_count": null,
      "outputs": [
        {
          "output_type": "stream",
          "name": "stdout",
          "text": [
            "/content\n",
            "['.config', 'drive', 'jigsaw-toxic-comment-classification-challenge.zip', 'sample_data']\n"
          ]
        }
      ]
    },
    {
      "cell_type": "code",
      "source": [
        "# Unzip\n",
        "!unzip '/content/jigsaw-toxic-comment-classification-challenge.zip'"
      ],
      "metadata": {
        "id": "9Y1BMt93Bewu",
        "colab": {
          "base_uri": "https://localhost:8080/"
        },
        "outputId": "edc87e0b-c0d8-4bed-a9ad-a36ce2183eab"
      },
      "execution_count": 4,
      "outputs": [
        {
          "output_type": "stream",
          "name": "stdout",
          "text": [
            "Archive:  /content/jigsaw-toxic-comment-classification-challenge.zip\n",
            "  inflating: sample_submission.csv.zip  \n",
            "  inflating: test.csv.zip            \n",
            "  inflating: test_labels.csv.zip     \n",
            "  inflating: train.csv.zip           \n"
          ]
        }
      ]
    },
    {
      "cell_type": "code",
      "source": [
        "# import csv data as pd df\n",
        "train = pd.read_csv('train.csv.zip')\n",
        "test = pd.read_csv('test.csv.zip')\n",
        "test_labels= pd.read_csv('test_labels.csv.zip')\n"
      ],
      "metadata": {
        "id": "-BQLYlEw4AvB"
      },
      "execution_count": 3,
      "outputs": []
    },
    {
      "cell_type": "markdown",
      "source": [
        "## Inspect Data"
      ],
      "metadata": {
        "id": "yCNpAUDROmdM"
      }
    },
    {
      "cell_type": "code",
      "source": [
        "train.shape"
      ],
      "metadata": {
        "colab": {
          "base_uri": "https://localhost:8080/"
        },
        "id": "K44mzP4Pa9M2",
        "outputId": "edcf3262-d9db-46e6-c5bd-32a71edb95ae"
      },
      "execution_count": null,
      "outputs": [
        {
          "output_type": "execute_result",
          "data": {
            "text/plain": [
              "(159571, 8)"
            ]
          },
          "metadata": {},
          "execution_count": 7
        }
      ]
    },
    {
      "cell_type": "code",
      "source": [
        "print(\"Number of Train NaN:\", train['comment_text'].isnull().sum())\n",
        "print(\"Number of Test NaN:\", test['comment_text'].isnull().sum())\n",
        "print(\"Number of Label NaN:\", test_labels.isnull().sum())\n"
      ],
      "metadata": {
        "colab": {
          "base_uri": "https://localhost:8080/"
        },
        "id": "3LZKjjMSADR1",
        "outputId": "fd9915e2-6db8-4edd-ec71-563ce6e7669f"
      },
      "execution_count": 6,
      "outputs": [
        {
          "output_type": "stream",
          "name": "stdout",
          "text": [
            "Number of Train NaN: 0\n",
            "Number of Test NaN: 0\n",
            "Number of Label NaN: id               0\n",
            "toxic            0\n",
            "severe_toxic     0\n",
            "obscene          0\n",
            "threat           0\n",
            "insult           0\n",
            "identity_hate    0\n",
            "dtype: int64\n"
          ]
        }
      ]
    },
    {
      "cell_type": "code",
      "source": [
        "train.head(10)"
      ],
      "metadata": {
        "colab": {
          "base_uri": "https://localhost:8080/",
          "height": 710
        },
        "id": "TsOKG-TOvN7P",
        "outputId": "fcb65cd8-e179-4e4f-bcc0-7b270ec5ecf7"
      },
      "execution_count": null,
      "outputs": [
        {
          "output_type": "execute_result",
          "data": {
            "text/plain": [
              "                 id                                       comment_text  toxic  \\\n",
              "0  0000997932d777bf  Explanation\\nWhy the edits made under my usern...      0   \n",
              "1  000103f0d9cfb60f  D'aww! He matches this background colour I'm s...      0   \n",
              "2  000113f07ec002fd  Hey man, I'm really not trying to edit war. It...      0   \n",
              "3  0001b41b1c6bb37e  \"\\nMore\\nI can't make any real suggestions on ...      0   \n",
              "4  0001d958c54c6e35  You, sir, are my hero. Any chance you remember...      0   \n",
              "5  00025465d4725e87  \"\\n\\nCongratulations from me as well, use the ...      0   \n",
              "6  0002bcb3da6cb337       COCKSUCKER BEFORE YOU PISS AROUND ON MY WORK      1   \n",
              "7  00031b1e95af7921  Your vandalism to the Matt Shirvington article...      0   \n",
              "8  00037261f536c51d  Sorry if the word 'nonsense' was offensive to ...      0   \n",
              "9  00040093b2687caa  alignment on this subject and which are contra...      0   \n",
              "\n",
              "   severe_toxic  obscene  threat  insult  identity_hate  \n",
              "0             0        0       0       0              0  \n",
              "1             0        0       0       0              0  \n",
              "2             0        0       0       0              0  \n",
              "3             0        0       0       0              0  \n",
              "4             0        0       0       0              0  \n",
              "5             0        0       0       0              0  \n",
              "6             1        1       0       1              0  \n",
              "7             0        0       0       0              0  \n",
              "8             0        0       0       0              0  \n",
              "9             0        0       0       0              0  "
            ],
            "text/html": [
              "\n",
              "  <div id=\"df-d9ddb813-00c1-4552-a2c3-e279297c0a49\" class=\"colab-df-container\">\n",
              "    <div>\n",
              "<style scoped>\n",
              "    .dataframe tbody tr th:only-of-type {\n",
              "        vertical-align: middle;\n",
              "    }\n",
              "\n",
              "    .dataframe tbody tr th {\n",
              "        vertical-align: top;\n",
              "    }\n",
              "\n",
              "    .dataframe thead th {\n",
              "        text-align: right;\n",
              "    }\n",
              "</style>\n",
              "<table border=\"1\" class=\"dataframe\">\n",
              "  <thead>\n",
              "    <tr style=\"text-align: right;\">\n",
              "      <th></th>\n",
              "      <th>id</th>\n",
              "      <th>comment_text</th>\n",
              "      <th>toxic</th>\n",
              "      <th>severe_toxic</th>\n",
              "      <th>obscene</th>\n",
              "      <th>threat</th>\n",
              "      <th>insult</th>\n",
              "      <th>identity_hate</th>\n",
              "    </tr>\n",
              "  </thead>\n",
              "  <tbody>\n",
              "    <tr>\n",
              "      <th>0</th>\n",
              "      <td>0000997932d777bf</td>\n",
              "      <td>Explanation\\nWhy the edits made under my usern...</td>\n",
              "      <td>0</td>\n",
              "      <td>0</td>\n",
              "      <td>0</td>\n",
              "      <td>0</td>\n",
              "      <td>0</td>\n",
              "      <td>0</td>\n",
              "    </tr>\n",
              "    <tr>\n",
              "      <th>1</th>\n",
              "      <td>000103f0d9cfb60f</td>\n",
              "      <td>D'aww! He matches this background colour I'm s...</td>\n",
              "      <td>0</td>\n",
              "      <td>0</td>\n",
              "      <td>0</td>\n",
              "      <td>0</td>\n",
              "      <td>0</td>\n",
              "      <td>0</td>\n",
              "    </tr>\n",
              "    <tr>\n",
              "      <th>2</th>\n",
              "      <td>000113f07ec002fd</td>\n",
              "      <td>Hey man, I'm really not trying to edit war. It...</td>\n",
              "      <td>0</td>\n",
              "      <td>0</td>\n",
              "      <td>0</td>\n",
              "      <td>0</td>\n",
              "      <td>0</td>\n",
              "      <td>0</td>\n",
              "    </tr>\n",
              "    <tr>\n",
              "      <th>3</th>\n",
              "      <td>0001b41b1c6bb37e</td>\n",
              "      <td>\"\\nMore\\nI can't make any real suggestions on ...</td>\n",
              "      <td>0</td>\n",
              "      <td>0</td>\n",
              "      <td>0</td>\n",
              "      <td>0</td>\n",
              "      <td>0</td>\n",
              "      <td>0</td>\n",
              "    </tr>\n",
              "    <tr>\n",
              "      <th>4</th>\n",
              "      <td>0001d958c54c6e35</td>\n",
              "      <td>You, sir, are my hero. Any chance you remember...</td>\n",
              "      <td>0</td>\n",
              "      <td>0</td>\n",
              "      <td>0</td>\n",
              "      <td>0</td>\n",
              "      <td>0</td>\n",
              "      <td>0</td>\n",
              "    </tr>\n",
              "    <tr>\n",
              "      <th>5</th>\n",
              "      <td>00025465d4725e87</td>\n",
              "      <td>\"\\n\\nCongratulations from me as well, use the ...</td>\n",
              "      <td>0</td>\n",
              "      <td>0</td>\n",
              "      <td>0</td>\n",
              "      <td>0</td>\n",
              "      <td>0</td>\n",
              "      <td>0</td>\n",
              "    </tr>\n",
              "    <tr>\n",
              "      <th>6</th>\n",
              "      <td>0002bcb3da6cb337</td>\n",
              "      <td>COCKSUCKER BEFORE YOU PISS AROUND ON MY WORK</td>\n",
              "      <td>1</td>\n",
              "      <td>1</td>\n",
              "      <td>1</td>\n",
              "      <td>0</td>\n",
              "      <td>1</td>\n",
              "      <td>0</td>\n",
              "    </tr>\n",
              "    <tr>\n",
              "      <th>7</th>\n",
              "      <td>00031b1e95af7921</td>\n",
              "      <td>Your vandalism to the Matt Shirvington article...</td>\n",
              "      <td>0</td>\n",
              "      <td>0</td>\n",
              "      <td>0</td>\n",
              "      <td>0</td>\n",
              "      <td>0</td>\n",
              "      <td>0</td>\n",
              "    </tr>\n",
              "    <tr>\n",
              "      <th>8</th>\n",
              "      <td>00037261f536c51d</td>\n",
              "      <td>Sorry if the word 'nonsense' was offensive to ...</td>\n",
              "      <td>0</td>\n",
              "      <td>0</td>\n",
              "      <td>0</td>\n",
              "      <td>0</td>\n",
              "      <td>0</td>\n",
              "      <td>0</td>\n",
              "    </tr>\n",
              "    <tr>\n",
              "      <th>9</th>\n",
              "      <td>00040093b2687caa</td>\n",
              "      <td>alignment on this subject and which are contra...</td>\n",
              "      <td>0</td>\n",
              "      <td>0</td>\n",
              "      <td>0</td>\n",
              "      <td>0</td>\n",
              "      <td>0</td>\n",
              "      <td>0</td>\n",
              "    </tr>\n",
              "  </tbody>\n",
              "</table>\n",
              "</div>\n",
              "    <div class=\"colab-df-buttons\">\n",
              "\n",
              "  <div class=\"colab-df-container\">\n",
              "    <button class=\"colab-df-convert\" onclick=\"convertToInteractive('df-d9ddb813-00c1-4552-a2c3-e279297c0a49')\"\n",
              "            title=\"Convert this dataframe to an interactive table.\"\n",
              "            style=\"display:none;\">\n",
              "\n",
              "  <svg xmlns=\"http://www.w3.org/2000/svg\" height=\"24px\" viewBox=\"0 -960 960 960\">\n",
              "    <path d=\"M120-120v-720h720v720H120Zm60-500h600v-160H180v160Zm220 220h160v-160H400v160Zm0 220h160v-160H400v160ZM180-400h160v-160H180v160Zm440 0h160v-160H620v160ZM180-180h160v-160H180v160Zm440 0h160v-160H620v160Z\"/>\n",
              "  </svg>\n",
              "    </button>\n",
              "\n",
              "  <style>\n",
              "    .colab-df-container {\n",
              "      display:flex;\n",
              "      gap: 12px;\n",
              "    }\n",
              "\n",
              "    .colab-df-convert {\n",
              "      background-color: #E8F0FE;\n",
              "      border: none;\n",
              "      border-radius: 50%;\n",
              "      cursor: pointer;\n",
              "      display: none;\n",
              "      fill: #1967D2;\n",
              "      height: 32px;\n",
              "      padding: 0 0 0 0;\n",
              "      width: 32px;\n",
              "    }\n",
              "\n",
              "    .colab-df-convert:hover {\n",
              "      background-color: #E2EBFA;\n",
              "      box-shadow: 0px 1px 2px rgba(60, 64, 67, 0.3), 0px 1px 3px 1px rgba(60, 64, 67, 0.15);\n",
              "      fill: #174EA6;\n",
              "    }\n",
              "\n",
              "    .colab-df-buttons div {\n",
              "      margin-bottom: 4px;\n",
              "    }\n",
              "\n",
              "    [theme=dark] .colab-df-convert {\n",
              "      background-color: #3B4455;\n",
              "      fill: #D2E3FC;\n",
              "    }\n",
              "\n",
              "    [theme=dark] .colab-df-convert:hover {\n",
              "      background-color: #434B5C;\n",
              "      box-shadow: 0px 1px 3px 1px rgba(0, 0, 0, 0.15);\n",
              "      filter: drop-shadow(0px 1px 2px rgba(0, 0, 0, 0.3));\n",
              "      fill: #FFFFFF;\n",
              "    }\n",
              "  </style>\n",
              "\n",
              "    <script>\n",
              "      const buttonEl =\n",
              "        document.querySelector('#df-d9ddb813-00c1-4552-a2c3-e279297c0a49 button.colab-df-convert');\n",
              "      buttonEl.style.display =\n",
              "        google.colab.kernel.accessAllowed ? 'block' : 'none';\n",
              "\n",
              "      async function convertToInteractive(key) {\n",
              "        const element = document.querySelector('#df-d9ddb813-00c1-4552-a2c3-e279297c0a49');\n",
              "        const dataTable =\n",
              "          await google.colab.kernel.invokeFunction('convertToInteractive',\n",
              "                                                    [key], {});\n",
              "        if (!dataTable) return;\n",
              "\n",
              "        const docLinkHtml = 'Like what you see? Visit the ' +\n",
              "          '<a target=\"_blank\" href=https://colab.research.google.com/notebooks/data_table.ipynb>data table notebook</a>'\n",
              "          + ' to learn more about interactive tables.';\n",
              "        element.innerHTML = '';\n",
              "        dataTable['output_type'] = 'display_data';\n",
              "        await google.colab.output.renderOutput(dataTable, element);\n",
              "        const docLink = document.createElement('div');\n",
              "        docLink.innerHTML = docLinkHtml;\n",
              "        element.appendChild(docLink);\n",
              "      }\n",
              "    </script>\n",
              "  </div>\n",
              "\n",
              "\n",
              "<div id=\"df-fe509e29-1d81-4682-bdda-9a6541dc2e1c\">\n",
              "  <button class=\"colab-df-quickchart\" onclick=\"quickchart('df-fe509e29-1d81-4682-bdda-9a6541dc2e1c')\"\n",
              "            title=\"Suggest charts.\"\n",
              "            style=\"display:none;\">\n",
              "\n",
              "<svg xmlns=\"http://www.w3.org/2000/svg\" height=\"24px\"viewBox=\"0 0 24 24\"\n",
              "     width=\"24px\">\n",
              "    <g>\n",
              "        <path d=\"M19 3H5c-1.1 0-2 .9-2 2v14c0 1.1.9 2 2 2h14c1.1 0 2-.9 2-2V5c0-1.1-.9-2-2-2zM9 17H7v-7h2v7zm4 0h-2V7h2v10zm4 0h-2v-4h2v4z\"/>\n",
              "    </g>\n",
              "</svg>\n",
              "  </button>\n",
              "\n",
              "<style>\n",
              "  .colab-df-quickchart {\n",
              "      --bg-color: #E8F0FE;\n",
              "      --fill-color: #1967D2;\n",
              "      --hover-bg-color: #E2EBFA;\n",
              "      --hover-fill-color: #174EA6;\n",
              "      --disabled-fill-color: #AAA;\n",
              "      --disabled-bg-color: #DDD;\n",
              "  }\n",
              "\n",
              "  [theme=dark] .colab-df-quickchart {\n",
              "      --bg-color: #3B4455;\n",
              "      --fill-color: #D2E3FC;\n",
              "      --hover-bg-color: #434B5C;\n",
              "      --hover-fill-color: #FFFFFF;\n",
              "      --disabled-bg-color: #3B4455;\n",
              "      --disabled-fill-color: #666;\n",
              "  }\n",
              "\n",
              "  .colab-df-quickchart {\n",
              "    background-color: var(--bg-color);\n",
              "    border: none;\n",
              "    border-radius: 50%;\n",
              "    cursor: pointer;\n",
              "    display: none;\n",
              "    fill: var(--fill-color);\n",
              "    height: 32px;\n",
              "    padding: 0;\n",
              "    width: 32px;\n",
              "  }\n",
              "\n",
              "  .colab-df-quickchart:hover {\n",
              "    background-color: var(--hover-bg-color);\n",
              "    box-shadow: 0 1px 2px rgba(60, 64, 67, 0.3), 0 1px 3px 1px rgba(60, 64, 67, 0.15);\n",
              "    fill: var(--button-hover-fill-color);\n",
              "  }\n",
              "\n",
              "  .colab-df-quickchart-complete:disabled,\n",
              "  .colab-df-quickchart-complete:disabled:hover {\n",
              "    background-color: var(--disabled-bg-color);\n",
              "    fill: var(--disabled-fill-color);\n",
              "    box-shadow: none;\n",
              "  }\n",
              "\n",
              "  .colab-df-spinner {\n",
              "    border: 2px solid var(--fill-color);\n",
              "    border-color: transparent;\n",
              "    border-bottom-color: var(--fill-color);\n",
              "    animation:\n",
              "      spin 1s steps(1) infinite;\n",
              "  }\n",
              "\n",
              "  @keyframes spin {\n",
              "    0% {\n",
              "      border-color: transparent;\n",
              "      border-bottom-color: var(--fill-color);\n",
              "      border-left-color: var(--fill-color);\n",
              "    }\n",
              "    20% {\n",
              "      border-color: transparent;\n",
              "      border-left-color: var(--fill-color);\n",
              "      border-top-color: var(--fill-color);\n",
              "    }\n",
              "    30% {\n",
              "      border-color: transparent;\n",
              "      border-left-color: var(--fill-color);\n",
              "      border-top-color: var(--fill-color);\n",
              "      border-right-color: var(--fill-color);\n",
              "    }\n",
              "    40% {\n",
              "      border-color: transparent;\n",
              "      border-right-color: var(--fill-color);\n",
              "      border-top-color: var(--fill-color);\n",
              "    }\n",
              "    60% {\n",
              "      border-color: transparent;\n",
              "      border-right-color: var(--fill-color);\n",
              "    }\n",
              "    80% {\n",
              "      border-color: transparent;\n",
              "      border-right-color: var(--fill-color);\n",
              "      border-bottom-color: var(--fill-color);\n",
              "    }\n",
              "    90% {\n",
              "      border-color: transparent;\n",
              "      border-bottom-color: var(--fill-color);\n",
              "    }\n",
              "  }\n",
              "</style>\n",
              "\n",
              "  <script>\n",
              "    async function quickchart(key) {\n",
              "      const quickchartButtonEl =\n",
              "        document.querySelector('#' + key + ' button');\n",
              "      quickchartButtonEl.disabled = true;  // To prevent multiple clicks.\n",
              "      quickchartButtonEl.classList.add('colab-df-spinner');\n",
              "      try {\n",
              "        const charts = await google.colab.kernel.invokeFunction(\n",
              "            'suggestCharts', [key], {});\n",
              "      } catch (error) {\n",
              "        console.error('Error during call to suggestCharts:', error);\n",
              "      }\n",
              "      quickchartButtonEl.classList.remove('colab-df-spinner');\n",
              "      quickchartButtonEl.classList.add('colab-df-quickchart-complete');\n",
              "    }\n",
              "    (() => {\n",
              "      let quickchartButtonEl =\n",
              "        document.querySelector('#df-fe509e29-1d81-4682-bdda-9a6541dc2e1c button');\n",
              "      quickchartButtonEl.style.display =\n",
              "        google.colab.kernel.accessAllowed ? 'block' : 'none';\n",
              "    })();\n",
              "  </script>\n",
              "</div>\n",
              "\n",
              "    </div>\n",
              "  </div>\n"
            ]
          },
          "metadata": {},
          "execution_count": 7
        }
      ]
    },
    {
      "cell_type": "code",
      "source": [
        "len = train.comment_text.len()\n",
        "print(\"Shortest comment:\", len.min(), \"words\")\n",
        "print(\"Longest comment:\", len.max(), \"words\")\n",
        "print(\"Average comment:\", len.mean().round(0), \"words\")\n",
        "\n",
        "\n"
      ],
      "metadata": {
        "colab": {
          "base_uri": "https://localhost:8080/"
        },
        "id": "E4MQ1o28g_Mh",
        "outputId": "2133bfcc-5a59-4859-a25e-1dc653ebe7c6"
      },
      "execution_count": null,
      "outputs": [
        {
          "output_type": "stream",
          "name": "stdout",
          "text": [
            "Shortest comment: 6 words\n",
            "Longest comment: 5000 words\n",
            "Average comment: 394.0 words\n"
          ]
        }
      ]
    },
    {
      "cell_type": "markdown",
      "source": [
        "## Train, Test, Val Split"
      ],
      "metadata": {
        "id": "ZueXSwnSOfTh"
      }
    },
    {
      "cell_type": "code",
      "source": [
        "# Train test dataframes\n",
        "Xtrain = train['comment_text'].str.lower()\n",
        "ytrain = train[['toxic', 'severe_toxic', 'obscene', 'threat', 'insult', 'identity_hate']]\n"
      ],
      "metadata": {
        "id": "MLpY6Z13x9da"
      },
      "execution_count": 4,
      "outputs": []
    },
    {
      "cell_type": "code",
      "source": [
        "#Train test split\n",
        "X_train_1, X_test, y_train_1, y_test = train_test_split(Xtrain, ytrain,\n",
        "                                                    test_size=0.15, random_state=42)\n"
      ],
      "metadata": {
        "id": "xdqsCj1UbczD"
      },
      "execution_count": 5,
      "outputs": []
    },
    {
      "cell_type": "code",
      "source": [
        " # Val split *Validation data abels for the test data could not be used per Kaggle \"value of -1 indicates it was not used for scoring; (Note: file added after competition close!)\"\n",
        " X_train, X_val, y_train, y_val= train_test_split(X_train_1, y_train_1,\n",
        "                                                    test_size=0.05, random_state=42)"
      ],
      "metadata": {
        "id": "er_Sf1P-LAyo"
      },
      "execution_count": 6,
      "outputs": []
    },
    {
      "cell_type": "code",
      "source": [
        "# Examine train test val\n",
        "print(\"Train Comments:\", X_train.head(2))\n",
        "print(\"--------------------------------\")\n",
        "\n",
        "print(\"Test Comments:\", X_test.head(2))\n",
        "print(\"--------------------------------\")\n",
        "\n",
        "print(\"Val Comments:\", X_val.head(2))\n",
        "print(\"--------------------------------\")\n",
        "\n",
        "print(\"Train Target Variables:\", y_train.head(2))\n",
        "print(\"--------------------------------\")\n",
        "\n",
        "print(\"Test Target Variables:\", y_test.head(2))\n",
        "print(\"--------------------------------\")\n",
        "\n",
        "print(\"Val Target Variables:\", y_val.head(2))\n",
        "print(\"--------------------------------\")\n"
      ],
      "metadata": {
        "colab": {
          "base_uri": "https://localhost:8080/"
        },
        "id": "wh3MEA5BzAVs",
        "outputId": "370fd689-b62e-42fd-9add-9af3fc99c5d8"
      },
      "execution_count": 16,
      "outputs": [
        {
          "output_type": "stream",
          "name": "stdout",
          "text": [
            "Train Comments: 159023    service award\\nhello. i noticed you list yours...\n",
            "76867     \"\\nwelcome!hello and welcome to wikipedia. tha...\n",
            "Name: comment_text, dtype: object\n",
            "--------------------------------\n",
            "Test Comments: 119105    geez, are you forgetful!  we've already discus...\n",
            "131631    carioca rfa \\n\\nthanks for your support on my ...\n",
            "Name: comment_text, dtype: object\n",
            "--------------------------------\n",
            "Val Comments: 7608     \"\\n ok, i understand. -) i've been a racist fo...\n",
            "20119    again again again \\n\\nthis is not going to sto...\n",
            "Name: comment_text, dtype: object\n",
            "--------------------------------\n",
            "Train Target Variables:         toxic  severe_toxic  obscene  threat  insult  identity_hate\n",
            "159023      0             0        0       0       0              0\n",
            "76867       0             0        0       0       0              0\n",
            "--------------------------------\n",
            "Test Target Variables:         toxic  severe_toxic  obscene  threat  insult  identity_hate\n",
            "119105      0             0        0       0       0              0\n",
            "131631      0             0        0       0       0              0\n",
            "--------------------------------\n",
            "Val Target Variables:        toxic  severe_toxic  obscene  threat  insult  identity_hate\n",
            "7608       0             0        0       0       0              0\n",
            "20119      1             0        0       0       1              0\n",
            "--------------------------------\n"
          ]
        }
      ]
    },
    {
      "cell_type": "code",
      "source": [
        "cols = [\"toxic\", \"severe_toxic\", \"obscene\", \"threat\", \"insult\", \"identity_hate\"]\n",
        "\n",
        "val_counts = y_train[cols].sum()\n",
        "\n",
        "plt.figure(figsize=(8,5))\n",
        "ax = sns.barplot(x= val_counts.index, y= val_counts.values, alpha=0.8)\n",
        "\n",
        "plt.title(\"Comments per Class\")\n",
        "plt.xlabel(\"Comment Type\")\n",
        "plt.ylabel(\"Counts of Comments\")\n",
        "\n",
        "rects = ax.patches\n",
        "labels = val_counts.values\n",
        "for rect, label in zip(rects, labels):\n",
        "    height = rect.get_height()\n",
        "    ax.text(rect.get_x() + rect.get_width()/2, height+5, label, ha=\"center\", va=\"bottom\")\n",
        "\n",
        "\n",
        "plt.show()"
      ],
      "metadata": {
        "colab": {
          "base_uri": "https://localhost:8080/",
          "height": 487
        },
        "id": "n_XdU1p3GcDc",
        "outputId": "812b9246-e2ee-44a2-df66-802a1d9f5ef4"
      },
      "execution_count": 22,
      "outputs": [
        {
          "output_type": "display_data",
          "data": {
            "text/plain": [
              "<Figure size 800x500 with 1 Axes>"
            ],
            "image/png": "[encoded data removed]"
          },
          "metadata": {}
        }
      ]
    },
    {
      "cell_type": "code",
      "source": [
        "# Find total number of toxic comments in train\n",
        "x=train.iloc[:,2:].sum()\n",
        "print(\"Total number of toxic comments:\", x.sum())\n"
      ],
      "metadata": {
        "colab": {
          "base_uri": "https://localhost:8080/"
        },
        "id": "YWSvkwEmra7x",
        "outputId": "f6b83642-3b44-4608-cb4c-102e3ba4065c"
      },
      "execution_count": 18,
      "outputs": [
        {
          "output_type": "stream",
          "name": "stdout",
          "text": [
            "Total number of toxic comments: 35098\n"
          ]
        }
      ]
    },
    {
      "cell_type": "markdown",
      "source": [
        "### Class Imbalance\n",
        "We can see there is a clear class imbalance in our data-only 35,098 comments are considered toxic, out of our dataset of 159,571; far more records have no toxic languge than do.  We'll need to take this into account when building our model.\n"
      ],
      "metadata": {
        "id": "N2Yy_hJp56gB"
      }
    },
    {
      "cell_type": "markdown",
      "source": [
        "# Data Preprocessing\n",
        "\n",
        "We've already lowercased the letters of our corpus, and now we'll untertake our next step, tokenizing our corpus, or splitting each comment into a series of words.  We'll have to make some decisions now about whether we remove stop words, what kinds of regex expressions we should use to clean the comments, if we should stem, lemmatize, or leave our text data as is before we come to our next step, vectorization.\n",
        "\n",
        "Because our dataset is quite large, we'll begin by removing stop words.  We'll do this because large datasets become highly dimensionsal after they've been vectorized, and to minimize processing times we'll need to reduce the amount of tokens we pass in to our vector.  Removing stop words- the most common words in english that have little value in this use case, will help us do so.\n",
        "\n",
        "We'll also use a regex expression to clean up some of the comments.  As we could see in our datatframe, there's many examples of strange punctuation that could adversly affect our model's performance, and we'll want to edit those out as well.\n",
        "\n",
        "We'll hold off on stemming or lemmatizing for now.  If our results from our initial models are unsatisfactory, we'll circle back to stemming our tokens.\n",
        "\n",
        "We'll begin with our import statements for this portion of our exploration.\n",
        "\n",
        "\n",
        "### Notes:\n",
        "* Is basic tokenization enough, or do we need to support special edge cases through the use of regex?\n",
        "*Do we use the entire vocabulary, or just limit the model to a subset of the most frequently used words? If so, how many?\n",
        "* Do we engineer other features, such as bigrams, or POS tags, or Mutual Information Scores?\n",
        "* What sort of vectorization should we use in our model? Boolean Vectorization? Count Vectorization? TF-IDF? More advanced vectorization strategies such as Word2Vec?\n",
        "\n",
        "Another common decision point when working with text data is exactly what features to include in the dataset. As we saw in a previous lab, NLTK makes it quite easy to do things like generate part-of-speech tags for words, or create word or character-level n-grams. In general, there's no great answer for exactly which features will improve the performance of your model, and which won't. This means that your best bet is to experiment, and treat the entire project as an iterative process! When working with text data, don't be afraid to try modeling on alternative forms of the text data, such as bigrams or n-grams. Similarly, we encourage you to explore how adding in additional features such as POS tags or mutual information scores affect the overall model performance.\n",
        "\n"
      ],
      "metadata": {
        "id": "khMlZ0-W36UF"
      }
    },
    {
      "cell_type": "markdown",
      "source": [
        "### Clean"
      ],
      "metadata": {
        "id": "NWXJT7sLsPxN"
      }
    },
    {
      "cell_type": "code",
      "source": [
        "def clean_text(text):\n",
        "    text = text.lower()\n",
        "    text = re.sub(r\"what's\", \"what is \", text)\n",
        "    text = re.sub(r\"\\'s\", \" \", text)\n",
        "    text = re.sub(r\"\\'ve\", \" have \", text)\n",
        "    text = re.sub(r\"can't\", \"can not \", text)\n",
        "    text = re.sub(r\"n't\", \" not \", text)\n",
        "    text = re.sub(r\"i'm\", \"i am \", text)\n",
        "    text = re.sub(r\"\\'re\", \" are \", text)\n",
        "    text = re.sub(r\"\\'d\", \" would \", text)\n",
        "    text = re.sub(r\"\\'ll\", \" will \", text)\n",
        "    text = re.sub(r\"\\'scuse\", \" excuse \", text)\n",
        "    text = re.sub('\\W', ' ', text)\n",
        "    text = re.sub('\\s+', ' ', text)\n",
        "    text = text.strip(' ')\n",
        "    return text"
      ],
      "metadata": {
        "id": "MoERBxP9QbNp"
      },
      "execution_count": 7,
      "outputs": []
    },
    {
      "cell_type": "code",
      "source": [
        "X_train = X_train.map(lambda com : clean_text(com))\n",
        "X_test = X_test.map(lambda com : clean_text(com))\n",
        "X_val = X_val.map(lambda com : clean_text(com))\n"
      ],
      "metadata": {
        "id": "__KYOC9SRaNi"
      },
      "execution_count": 8,
      "outputs": []
    },
    {
      "cell_type": "code",
      "source": [
        "X_train.apply(lambda x: len(x.split(' '))).sum()\n"
      ],
      "metadata": {
        "colab": {
          "base_uri": "https://localhost:8080/"
        },
        "id": "02yK7oiEkTeZ",
        "outputId": "cd0723b0-0be3-45be-9175-a890d837032d"
      },
      "execution_count": 9,
      "outputs": [
        {
          "output_type": "execute_result",
          "data": {
            "text/plain": [
              "8889873"
            ]
          },
          "metadata": {},
          "execution_count": 9
        }
      ]
    },
    {
      "cell_type": "code",
      "source": [
        "X_test.apply(lambda x: len(x.split(' '))).sum()\n"
      ],
      "metadata": {
        "colab": {
          "base_uri": "https://localhost:8080/"
        },
        "id": "xeSUB1ynkgkD",
        "outputId": "e0e8a782-b38e-47cc-eb46-e699c590d780"
      },
      "execution_count": 10,
      "outputs": [
        {
          "output_type": "execute_result",
          "data": {
            "text/plain": [
              "1610151"
            ]
          },
          "metadata": {},
          "execution_count": 10
        }
      ]
    },
    {
      "cell_type": "code",
      "source": [
        "X_val.apply(lambda x: len(x.split(' '))).sum()\n"
      ],
      "metadata": {
        "colab": {
          "base_uri": "https://localhost:8080/"
        },
        "id": "NqUyeRsDkmYD",
        "outputId": "f7282f0f-87c6-4ac1-955b-439dc8c97f35"
      },
      "execution_count": 11,
      "outputs": [
        {
          "output_type": "execute_result",
          "data": {
            "text/plain": [
              "474080"
            ]
          },
          "metadata": {},
          "execution_count": 11
        }
      ]
    },
    {
      "cell_type": "markdown",
      "source": [
        "# Vectorization\n",
        "In order to get these tokens from our documents, we're going to use tools called \"vectorizers\".  These convert words into numerical representations, allowing computers to build and evaluate machine learning models.  \n",
        "\n",
        "Vectorization allows our model to:\n",
        "* Find word predictions\n",
        "* Find word similarities\n",
        "* Represent words in a lower-dimensional space\n",
        "* Allow words with similar meanings to have a similar representation\n",
        "* Approximate meaning\n",
        "\n",
        "The most straightforward vectorizer in sklearn.feature_extraction.text is the CountVectorizer, which will simply count the number of each word type in each document.  Two other strategies include:\n",
        "\n",
        "* Bag of Words: A a simple, yet effective text encoding technique. Corpus is tokenized, only unique words are selected to create the vocabulary and then sorted by alphabetical order.  Single words or n-grams can be used for analysis.\n",
        "\n",
        "\n",
        "* TF-IDF: Term Frequency–Inverse Document Frequency, is a numerical statistic that’s intended to reflect how important a word is to a document.  This is a slightly more sophisticated version of bag of words.\n",
        "\n"
      ],
      "metadata": {
        "id": "tVGrgJgtHbWg"
      }
    },
    {
      "cell_type": "code",
      "source": [
        "# The first document-term matrix has default Count Vectorizer values - counts of bigrams\n",
        "cv1 = CountVectorizer(analyzer= 'char',\n",
        "                    tokenizer=tokenize,\n",
        "                    stop_words='english')\n",
        "\n"
      ],
      "metadata": {
        "id": "FMETb4PZveI1"
      },
      "execution_count": 10,
      "outputs": []
    },
    {
      "cell_type": "code",
      "source": [
        "# fit tranform Train data and transform to pd array\n",
        "X_train_cv1 = cv1.fit_transform(X_train)\n",
        "X_train_cv1= X_train_cv1.toarray()\n",
        "Xtrain_cv1 = pd.DataFrame(data=X_train_cv1)"
      ],
      "metadata": {
        "colab": {
          "base_uri": "https://localhost:8080/"
        },
        "id": "0sPkLPAzDRi5",
        "outputId": "2890aec4-db13-4c06-8cc1-204f614d5775"
      },
      "execution_count": 11,
      "outputs": [
        {
          "output_type": "stream",
          "name": "stderr",
          "text": [
            "/usr/local/lib/python3.10/dist-packages/sklearn/feature_extraction/text.py:528: UserWarning: The parameter 'token_pattern' will not be used since 'tokenizer' is not None'\n",
            "  warnings.warn(\n",
            "/usr/local/lib/python3.10/dist-packages/sklearn/feature_extraction/text.py:550: UserWarning: The parameter 'stop_words' will not be used since 'analyzer' != 'word'\n",
            "  warnings.warn(\n",
            "/usr/local/lib/python3.10/dist-packages/sklearn/feature_extraction/text.py:563: UserWarning: The parameter 'tokenizer' will not be used since 'analyzer' != 'word'\n",
            "  warnings.warn(\n"
          ]
        }
      ]
    },
    {
      "cell_type": "code",
      "source": [
        "Xtrain_cv1.shape"
      ],
      "metadata": {
        "colab": {
          "base_uri": "https://localhost:8080/"
        },
        "id": "UqoifxBHgTpP",
        "outputId": "bf7a7ffe-e99f-408d-b2f9-aa0de52d5343"
      },
      "execution_count": 13,
      "outputs": [
        {
          "output_type": "execute_result",
          "data": {
            "text/plain": [
              "(128853, 1934)"
            ]
          },
          "metadata": {},
          "execution_count": 13
        }
      ]
    },
    {
      "cell_type": "code",
      "source": [
        "#  tranform Test data and transform to pd array\n",
        "X_test_cv1 = cv1.transform(X_test)\n",
        "X_test_cv1= X_test_cv1.toarray()\n",
        "Xtest_cv1 = pd.DataFrame(data=X_test_cv1)"
      ],
      "metadata": {
        "id": "geKMU9KJLfpj"
      },
      "execution_count": 12,
      "outputs": []
    },
    {
      "cell_type": "code",
      "source": [
        "Xtest_cv1.shape"
      ],
      "metadata": {
        "colab": {
          "base_uri": "https://localhost:8080/"
        },
        "id": "oGDuzdOwGIO7",
        "outputId": "df0497eb-06aa-4d54-f4fe-832d2bebf149"
      },
      "execution_count": 15,
      "outputs": [
        {
          "output_type": "execute_result",
          "data": {
            "text/plain": [
              "(23936, 1934)"
            ]
          },
          "metadata": {},
          "execution_count": 15
        }
      ]
    },
    {
      "cell_type": "code",
      "source": [
        "#  tranform val data and transform to pd array\n",
        "X_val_cv1 = cv1.transform(X_val)\n",
        "X_val_cv1= X_val_cv1.toarray()\n",
        "Xval_cv1 = pd.DataFrame(data=X_val_cv1)"
      ],
      "metadata": {
        "id": "R0oLHH0RLl1C"
      },
      "execution_count": 13,
      "outputs": []
    },
    {
      "cell_type": "code",
      "source": [
        "Xval_cv1.shape"
      ],
      "metadata": {
        "colab": {
          "base_uri": "https://localhost:8080/"
        },
        "id": "KdekuK0eGNZz",
        "outputId": "e14ea6dc-03a8-4c6a-9798-67b5944d6b48"
      },
      "execution_count": 17,
      "outputs": [
        {
          "output_type": "execute_result",
          "data": {
            "text/plain": [
              "(6782, 1934)"
            ]
          },
          "metadata": {},
          "execution_count": 17
        }
      ]
    },
    {
      "cell_type": "code",
      "source": [
        "# Using .shape\n",
        "input_dims = Xtrain_cv1.shape[1]\n",
        "model = Sequential()\n",
        "model.add(layers.Dense(20, input_dim=input_dims, activation='relu'))\n",
        "model.add(layers.Dense(6, activation='softmax'))\n",
        "\n",
        "model.compile(loss='categorical_crossentropy', optimizer='adam', metrics=['accuracy'])\n",
        "\n"
      ],
      "metadata": {
        "id": "tjI1pdN_NK5O"
      },
      "execution_count": 20,
      "outputs": []
    },
    {
      "cell_type": "code",
      "source": [
        "history = model.fit(Xtrain_cv1,\n",
        "                    y_train,\n",
        "                    epochs=5,\n",
        "                    batch_size=20,\n",
        "                    validation_data=(Xval_cv1, y_val))"
      ],
      "metadata": {
        "id": "08EJWShhJdJl",
        "colab": {
          "base_uri": "https://localhost:8080/"
        },
        "outputId": "c9269c0a-4deb-4e3a-9ac7-95af608d7015"
      },
      "execution_count": 21,
      "outputs": [
        {
          "output_type": "stream",
          "name": "stdout",
          "text": [
            "Epoch 1/5\n",
            "6443/6443 [==============================] - 13s 2ms/step - loss: 1.1228 - accuracy: 0.2740 - val_loss: 1.4377 - val_accuracy: 0.0329\n",
            "Epoch 2/5\n",
            "6443/6443 [==============================] - 13s 2ms/step - loss: 2.6365 - accuracy: 0.2729 - val_loss: 3.3388 - val_accuracy: 0.0040\n",
            "Epoch 3/5\n",
            "6443/6443 [==============================] - 12s 2ms/step - loss: 4.6162 - accuracy: 0.2643 - val_loss: 7.0298 - val_accuracy: 0.0069\n",
            "Epoch 4/5\n",
            "6443/6443 [==============================] - 12s 2ms/step - loss: 7.0011 - accuracy: 0.2561 - val_loss: 9.4736 - val_accuracy: 0.0021\n",
            "Epoch 5/5\n",
            "6443/6443 [==============================] - 12s 2ms/step - loss: 9.4816 - accuracy: 0.2541 - val_loss: 10.7391 - val_accuracy: 0.0100\n"
          ]
        }
      ]
    },
    {
      "cell_type": "code",
      "source": [
        "history_dict = history.history\n",
        "history_dict.keys()"
      ],
      "metadata": {
        "colab": {
          "base_uri": "https://localhost:8080/"
        },
        "id": "6pM6uPdxwAh8",
        "outputId": "7edf7020-2778-4381-9198-a400b355dca4"
      },
      "execution_count": 20,
      "outputs": [
        {
          "output_type": "execute_result",
          "data": {
            "text/plain": [
              "dict_keys(['loss', 'accuracy', 'val_loss', 'val_accuracy'])"
            ]
          },
          "metadata": {},
          "execution_count": 20
        }
      ]
    },
    {
      "cell_type": "code",
      "source": [
        "lables = ['toxic', 'severe_toxic', 'obscene', 'threat', 'insult', 'identity_hate']\n",
        "y_pred = np.argmax(model.predict(Xtest_cv1), axis=1)\n",
        "thresh = 0.5\n",
        "y_pred = (y_pred > thresh)\n",
        "\n",
        "ax= plt.subplot()\n",
        "\n",
        "cm = confusion_matrix(np.asarray(y_test).argmax(axis=1), y_pred)\n",
        "sns.heatmap(cm, annot=True, fmt='g', ax=ax);  #annot=True to annotate cells, ftm='g' to disable scientific notation\n",
        "\n",
        "# labels, title and ticks\n",
        "ax.set_xlabel('Predicted labels');ax.set_ylabel('True labels');\n",
        "ax.set_title('Confusion Matrix');\n",
        "\n"
      ],
      "metadata": {
        "colab": {
          "base_uri": "https://localhost:8080/",
          "height": 490
        },
        "id": "FVdO2AxVyi2-",
        "outputId": "5c66757d-f3d5-41bd-a257-f195da9dbc28"
      },
      "execution_count": 22,
      "outputs": [
        {
          "output_type": "stream",
          "name": "stdout",
          "text": [
            "748/748 [==============================] - 1s 1ms/step\n"
          ]
        },
        {
          "output_type": "display_data",
          "data": {
            "text/plain": [
              "<Figure size 640x480 with 2 Axes>"
            ],
            "image/png": "[encoded data removed]"
          },
          "metadata": {}
        }
      ]
    },
    {
      "cell_type": "code",
      "source": [
        "def visualize_results(results, y_test=y_test):\n",
        "  \"\"\"\n",
        "  input results of model fitting.\n",
        "  output loss and accuracy curves, and confusion matrix\n",
        "  \"\"\"\n",
        "\n",
        "  history = results.history\n",
        "  plt.figure()\n",
        "  plt.plot(history['loss'])\n",
        "  plt.plot(history['val_loss'])\n",
        "  plt.legend(['loss', 'val_loss'])\n",
        "  plt.title('Loss')\n",
        "  plt.xlabel('Epochs')\n",
        "  plt.ylabel('Loss')\n",
        "  plt.show()\n",
        "\n",
        "  plt.figure()\n",
        "  plt.plot(history['accuracy'])\n",
        "  plt.plot(history['val_accuracy'])\n",
        "  plt.legend(['accuracy', 'val_accuracy'])\n",
        "  plt.title('Accuracy')\n",
        "  plt.xlabel('Epochs')\n",
        "  plt.ylabel('Accuracy')\n",
        "  plt.show()\n",
        "\n",
        "\n",
        "# Check final metrics\n",
        "  train_loss, train_acc= model.evaluate(Xtrain_cv1, y_train)\n",
        "  test_loss, test_acc= model.evaluate(Xtest_cv1, y_test)\n",
        "\n",
        "  print('------------------------------')\n",
        "\n",
        "\n",
        "  print(f'Train Loss: {train_loss}')\n",
        "  print(f'Train Acc: {train_acc}')\n",
        "\n",
        "  print('------------------------------')\n",
        "\n",
        "  print(f'Test Loss: {test_loss}')\n",
        "  print(f'Test Acc: {test_acc}')"
      ],
      "metadata": {
        "id": "4JrEHJQ3vlmC"
      },
      "execution_count": 23,
      "outputs": []
    },
    {
      "cell_type": "code",
      "source": [
        "visualize_results(history)"
      ],
      "metadata": {
        "colab": {
          "base_uri": "https://localhost:8080/",
          "height": 1000
        },
        "id": "zzLc7N68v6tL",
        "outputId": "cef80d1c-8439-40b1-8230-b60383e8bb31"
      },
      "execution_count": 24,
      "outputs": [
        {
          "output_type": "display_data",
          "data": {
            "text/plain": [
              "<Figure size 640x480 with 1 Axes>"
            ],
            "image/png": "[encoded data removed]"
          },
          "metadata": {}
        },
        {
          "output_type": "display_data",
          "data": {
            "text/plain": [
              "<Figure size 640x480 with 1 Axes>"
            ],
            "image/png": "[encoded data removed]"
          },
          "metadata": {}
        },
        {
          "output_type": "stream",
          "name": "stdout",
          "text": [
            "4027/4027 [==============================] - 6s 2ms/step - loss: 9.4387 - accuracy: 0.0102\n",
            "748/748 [==============================] - 1s 2ms/step - loss: 9.8472 - accuracy: 0.0103\n",
            "------------------------------\n",
            "Train Loss: 9.438664436340332\n",
            "Train Acc: 0.010166623629629612\n",
            "------------------------------\n",
            "Test Loss: 9.847167015075684\n",
            "Test Acc: 0.010319184511899948\n"
          ]
        }
      ]
    },
    {
      "cell_type": "markdown",
      "source": [
        "## Tfidf classifier"
      ],
      "metadata": {
        "id": "RvXlJzVDJBmz"
      }
    },
    {
      "cell_type": "code",
      "source": [
        "vector = TfidfVectorizer(ngram_range=(1, 2), analyzer='word',\n",
        "                         stop_words='english',\n",
        "                         strip_accents='unicode')\n"
      ],
      "metadata": {
        "id": "8oSh7MbZGeV2"
      },
      "execution_count": 12,
      "outputs": []
    },
    {
      "cell_type": "code",
      "source": [
        "X_train_v = vector.fit_transform(X_train)\n",
        "X_train_v= X_train_v.toarray()\n",
        "X_train_tfidf = pd.DataFrame(data=X_train_v)\n",
        "\n",
        "X_test_v = vector.transform(X_test)\n",
        "X_test_v= X_test_v.toarray()\n",
        "X_test_tfidf = pd.DataFrame(data=X_test_v)\n",
        "\n",
        "X_val_v = vector.transform(X_val)\n",
        "X_val_v= X_val_v.toarray()\n",
        "X_val_tfidf = pd.DataFrame(data=X_val_v)\n"
      ],
      "metadata": {
        "id": "XN4UqZVgjzhg"
      },
      "execution_count": 13,
      "outputs": []
    },
    {
      "cell_type": "code",
      "source": [
        "X_test_v.shape"
      ],
      "metadata": {
        "colab": {
          "base_uri": "https://localhost:8080/"
        },
        "id": "nMuXj8-7zbhK",
        "outputId": "8e61c44c-3b76-4c3f-e620-3e8c3c42c5f2"
      },
      "execution_count": 15,
      "outputs": [
        {
          "output_type": "execute_result",
          "data": {
            "text/plain": [
              "(23936, 2388643)"
            ]
          },
          "metadata": {},
          "execution_count": 15
        }
      ]
    },
    {
      "cell_type": "code",
      "source": [
        "input_dims = X_train_tfidf.shape[1]\n",
        "\n",
        "model = Sequential()\n",
        "model.add(layers.Dense(7, activation='relu', input_dim=input_dims,))\n",
        "model.add(layers.Dense(5, activation='relu'))\n",
        "model.add(layers.Dense(6, activation='softmax'))\n"
      ],
      "metadata": {
        "id": "TB6sKMY8zRqe"
      },
      "execution_count": 18,
      "outputs": []
    },
    {
      "cell_type": "code",
      "source": [
        "\n",
        "model.compile(loss='categorical_crossentropy',\n",
        "              optimizer='adam',\n",
        "              metrics=['accuracy'])\n",
        "\n",
        "# Fit model\n",
        "history = model.fit(X_train_tfidf,\n",
        "                    y_train,\n",
        "                    epochs=10,\n",
        "                    batch_size=20,\n",
        "                    validation_data=(X_val_tfidf, y_val))\n"
      ],
      "metadata": {
        "id": "5iVokB-76tNZ"
      },
      "execution_count": null,
      "outputs": []
    },
    {
      "cell_type": "markdown",
      "source": [
        "Build pipeline"
      ],
      "metadata": {
        "id": "beGPwmCIIHBp"
      }
    },
    {
      "cell_type": "code",
      "source": [
        "mnb = MultinomialNB()\n",
        "\n",
        "mnb.fit(vec, test_term_doc)\n",
        "y_hat = mnb.predict(X_val_vec)\n",
        "\n",
        "precision_score(y_val, y_hat)"
      ],
      "metadata": {
        "id": "8zLdynyx10lO"
      },
      "execution_count": null,
      "outputs": []
    },
    {
      "cell_type": "code",
      "source": [
        "mnb_pipeline = Pipeline([\n",
        "    ('vect', CountVectorizer()),\n",
        "    ('clf', MultinomialNB())\n",
        "])"
      ],
      "metadata": {
        "id": "qRj_mgO8_Zyu"
      },
      "execution_count": 13,
      "outputs": []
    },
    {
      "cell_type": "code",
      "source": [
        "parameters = {\n",
        "    'vect__ngram_range': [(1, 1), (1, 2)],  # Uni-gram or Bi-gram\n",
        "    'clf__alpha': [0.1, 1.0, 10.0]  # Smoothing parameter\n",
        "}"
      ],
      "metadata": {
        "id": "EZ_s9Hho_kYA"
      },
      "execution_count": 14,
      "outputs": []
    },
    {
      "cell_type": "code",
      "source": [
        "mnb_grid_search = GridSearchCV(mnb_pipeline, parameters, cv=5, n_jobs=-1)\n",
        "for label in y_train.columns:\n",
        "    mnb_grid_search.fit(train_comments, train_labels[label])\n",
        "    best_mnb_model = mnb_grid_search.best_estimator_\n",
        "    val_predictions = best_mnb_model.predict(val_comments)\n",
        "    print(f\"Label: {label}\")\n",
        "    print(classification_report(val_labels[label], val_predictions))"
      ],
      "metadata": {
        "id": "pSLus5Mp_shM"
      },
      "execution_count": null,
      "outputs": []
    },
    {
      "cell_type": "code",
      "source": [
        "model = keras.Sequential([\n",
        "    keras.layers.InputLayer(input_shape=(word_vocab_size,), sparse=True),\n",
        "    keras.layers.Dense(20, activation=\"tanh\"),\n",
        "    keras.layers.Dense(6, activation=\"softmax\")\n",
        "])"
      ],
      "metadata": {
        "id": "UhbMF2V2JESl"
      },
      "execution_count": null,
      "outputs": []
    },
    {
      "cell_type": "code",
      "source": [
        "model.compile(loss=\"categorical_crossentropy\",\n",
        "              optimizer=\"sgd\",\n",
        "              metrics=[\"accuracy\"])\n"
      ],
      "metadata": {
        "id": "S7wUpQAqJGpI"
      },
      "execution_count": null,
      "outputs": []
    },
    {
      "cell_type": "code",
      "source": [
        "model_history = model.fit(X_train,\n",
        "                          X_test,\n",
        "                          batch_size=100,\n",
        "                          epochs=5,\n",
        "                          validation_data=(y_train, y_test))\n"
      ],
      "metadata": {
        "id": "A2CZuo4CJHWb"
      },
      "execution_count": null,
      "outputs": []
    },
    {
      "cell_type": "code",
      "source": [
        "plt.plot(model_history.history['accuracy'])\n",
        "plt.plot(model_history.history['val_accuracy'])\n",
        "plt.title('Model accuracy')\n",
        "plt.ylabel('Accuracy')\n",
        "plt.xlabel('Epoch')\n",
        "plt.legend(['Train', 'Validation'], loc='upper left')\n",
        "plt.show()"
      ],
      "metadata": {
        "id": "FNTD5WQzJVLB"
      },
      "execution_count": null,
      "outputs": []
    },
    {
      "cell_type": "code",
      "source": [],
      "metadata": {
        "id": "AxuAl-YAsBET"
      },
      "execution_count": null,
      "outputs": []
    },
    {
      "cell_type": "markdown",
      "source": [
        "# Bayes's Theorem\n",
        "\"...with NB models generally\n",
        "outperforming the sophisticated, structure-sensitive\n",
        "models explored in recent work. Furthermore, by\n",
        "combining generative and discriminative classifiers,\n",
        "we present a simple model variant where an SVM is\n",
        "built over NB log-count ratios as feature values, and\n",
        "show that it is a strong and robust performer over all\n",
        "the presented tasks\"\n",
        "\n",
        " Multinomial Naive Bayes (MNB) better att snippets.  Support Vector Machine (SVM) better at full length and  SVM with NB(Naive Bayes) features (NBSVM) doing well on both\n",
        "[Baselines and Bigrams: Simple, Good Sentiment and Topic Classification](https://nlp.stanford.edu/pubs/sidaw12_simple_sentiment.pdf)\n",
        "\n"
      ],
      "metadata": {
        "id": "4mezK6uzYNxD"
      }
    },
    {
      "cell_type": "markdown",
      "source": [
        "# Making things BERT friendly\n",
        "BERT, which stands for Bidirectional Encoder Representations from Transformers\n",
        "\n",
        "First let's make the data compliant with BERT:\n",
        "\n",
        "Column 0: An ID for the row. (Required both for train and test data.)\n",
        "Column 1: The class label for the row. (Required only for train data.)\n",
        "Column 2: A column of the same letter for all rows — this is a throw-away column that we need to include because BERT expects it. (Required only for train data.)\n",
        "Column 3: The text examples we want to classify. (Required both for train and test data.)\n",
        "\n",
        "We need to split the files into the format expected by BERT: BERT comes with data loading classes that expects two files called train and dev for training. In addition, BERT’s data loading classes can also use a test file but it expects the test file to be unlabelled.\n",
        "\n",
        "\n",
        "Once the data is in the correct format, we need to save the files as .tsv (BERT doesn't take .csv as input.)\n",
        "\n"
      ],
      "metadata": {
        "id": "27heDkOoxN6x"
      }
    },
    {
      "cell_type": "code",
      "source": [
        "# A dependency of the preprocessing for BERT inputs\n",
        "pip install -U \"tensorflow-text==2.13.*\""
      ],
      "metadata": {
        "id": "_zEOuzIwzLbL"
      },
      "execution_count": null,
      "outputs": []
    },
    {
      "cell_type": "code",
      "source": [
        "pip install \"tf-models-official==2.13.*\""
      ],
      "metadata": {
        "id": "cH88wafYzOUz"
      },
      "execution_count": null,
      "outputs": []
    },
    {
      "cell_type": "code",
      "source": [
        "# Creating training dataframe according to BERT by adding the required columns\n",
        "df_bert = pd.DataFrame({\n",
        "    'id':range(len(train_df)),\n",
        "    'label':train_df[0],\n",
        "    'alpha':['a']*train_df.shape[0],\n",
        "    'text': train_df[1].replace(r'\\n', ' ', regex=True)\n",
        "})"
      ],
      "metadata": {
        "id": "I0483N0Xxkom"
      },
      "execution_count": null,
      "outputs": []
    },
    {
      "cell_type": "code",
      "source": [
        "# Saving dataframes to .tsv format as required by BERT\n",
        "df_bert_train.to_csv('data/train.tsv', sep='\\t', index=False, header=False)\n",
        "df_bert_dev.to_csv('data/dev.tsv', sep='\\t', index=False, header=False)\n",
        "df_bert_test.to_csv('data/test.tsv', sep='\\t', index=False, header=False)"
      ],
      "metadata": {
        "id": "qIfdDv7JxZzI"
      },
      "execution_count": null,
      "outputs": []
    },
    {
      "cell_type": "markdown",
      "source": [
        "3. Training Model using Pre-trained BERT model\n",
        "Some checkpoints before proceeding further:\n",
        "\n",
        "All the .tsv files should be in a folder called “data” in the “BERT directory”.\n",
        "We should have created a folder “bert_output” where the fine tuned model will be saved.\n",
        "The pre-trained BERT model should have been saved in the “BERT directory”.\n",
        "The paths in the command are relative path, “./”\n",
        "Now, navigate to the directory you cloned BERT into and type the following command:\n",
        "\n"
      ],
      "metadata": {
        "id": "Haz3GcZqx1fM"
      }
    },
    {
      "cell_type": "code",
      "source": [],
      "metadata": {
        "id": "BT2B8bcL44A_"
      },
      "execution_count": null,
      "outputs": []
    },
    {
      "cell_type": "code",
      "source": [
        "# Set parameters:\n",
        "max_features = 50000\n",
        "maxlen = 5000\n",
        "batch_size = 32\n",
        "embedding_dims = 64\n",
        "epochs = 4"
      ],
      "metadata": {
        "id": "qjPJAAp0RRrV"
      },
      "execution_count": 20,
      "outputs": []
    },
    {
      "cell_type": "code",
      "source": [
        "comment_input = Input((maxlen,))\n",
        "\n",
        "# we start off with an efficient embedding layer which maps\n",
        "# our vocab indices into embedding_dims dimensions\n",
        "comment_emb = Embedding(max_features, embedding_dims, input_length=maxlen)(comment_input)\n",
        "\n",
        "# we add a GlobalMaxPool1D, which will extract information from the embeddings\n",
        "# of all words in the document\n",
        "comment_emb = SpatialDropout1D(0.25)(comment_emb)\n",
        "max_emb = GlobalMaxPool1D()(comment_emb)\n",
        "\n",
        "# normalized dense layer followed by dropout\n",
        "main = BatchNormalization()(max_emb)\n",
        "main = Dense(64)(main)\n",
        "main = Dropout(0.5)(main)\n",
        "\n",
        "# We project onto a six-unit output layer, and squash it with sigmoids:\n",
        "output = Dense(6, activation='sigmoid')(main)\n",
        "\n",
        "model = Model(inputs=comment_input, outputs=output)\n",
        "model.compile(loss='binary_crossentropy',\n",
        "              optimizer='adam',\n",
        "              metrics=['accuracy'])\n"
      ],
      "metadata": {
        "colab": {
          "base_uri": "https://localhost:8080/"
        },
        "id": "4JngaaayRtUj",
        "outputId": "a92d9ade-ee16-4672-b847-94aa220d98a1"
      },
      "execution_count": 27,
      "outputs": [
        {
          "output_type": "stream",
          "name": "stdout",
          "text": [
            "Build model...\n"
          ]
        }
      ]
    },
    {
      "cell_type": "code",
      "source": [
        "hist = model.fit(x_train, y_train, batch_size=batch_size, epochs=epochs, validation_split=0.1)"
      ],
      "metadata": {
        "colab": {
          "base_uri": "https://localhost:8080/"
        },
        "id": "f5o1xI_dSGGU",
        "outputId": "28bcb9aa-c034-4335-e8b8-2937f75d1a29"
      },
      "execution_count": 28,
      "outputs": [
        {
          "output_type": "stream",
          "name": "stdout",
          "text": [
            "Epoch 1/4\n",
            "3624/3624 [==============================] - 62s 17ms/step - loss: 0.1014 - accuracy: 0.7893 - val_loss: 0.0566 - val_accuracy: 0.9943\n",
            "Epoch 2/4\n",
            "3624/3624 [==============================] - 61s 17ms/step - loss: 0.0616 - accuracy: 0.8429 - val_loss: 0.0542 - val_accuracy: 0.9924\n",
            "Epoch 3/4\n",
            "3624/3624 [==============================] - 60s 17ms/step - loss: 0.0551 - accuracy: 0.7719 - val_loss: 0.0525 - val_accuracy: 0.9923\n",
            "Epoch 4/4\n",
            "3624/3624 [==============================] - 61s 17ms/step - loss: 0.0514 - accuracy: 0.7318 - val_loss: 0.0515 - val_accuracy: 0.9936\n"
          ]
        }
      ]
    }
  ]
}